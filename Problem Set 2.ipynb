{
 "cells": [
  {
   "cell_type": "markdown",
   "id": "c3bb0727-7e45-4825-a485-8d3348783e3a",
   "metadata": {},
   "source": [
    "## Question 1"
   ]
  },
  {
   "cell_type": "code",
   "execution_count": 1,
   "id": "b0a2924e-f8ea-40de-9325-a28fd85411e5",
   "metadata": {
    "tags": []
   },
   "outputs": [],
   "source": [
    "# Given\n",
    "a = 0\n",
    "\n",
    "def b():\n",
    "    global a\n",
    "    a = c(a)\n",
    "\n",
    "def c(a):\n",
    "    return a + 2"
   ]
  },
  {
   "cell_type": "code",
   "execution_count": 2,
   "id": "4d81c54a-b05b-4bad-abc7-00684f65ee35",
   "metadata": {
    "tags": []
   },
   "outputs": [],
   "source": [
    "b()"
   ]
  },
  {
   "cell_type": "code",
   "execution_count": 3,
   "id": "c673da8a-d95e-4100-8a7d-4454950d79d5",
   "metadata": {
    "tags": []
   },
   "outputs": [],
   "source": [
    "b()"
   ]
  },
  {
   "cell_type": "code",
   "execution_count": 4,
   "id": "5b03456f-cb07-4e1f-9074-02d55a18ddc1",
   "metadata": {
    "tags": []
   },
   "outputs": [],
   "source": [
    "b()"
   ]
  },
  {
   "cell_type": "code",
   "execution_count": 5,
   "id": "8a3539c2-c937-4bd6-83f7-50b74d574d74",
   "metadata": {
    "tags": []
   },
   "outputs": [
    {
     "data": {
      "text/plain": [
       "6"
      ]
     },
     "execution_count": 5,
     "metadata": {},
     "output_type": "execute_result"
    }
   ],
   "source": [
    "a"
   ]
  },
  {
   "cell_type": "markdown",
   "id": "5021f174-6520-4831-a585-ca898f8757c1",
   "metadata": {},
   "source": [
    "### Answers\n",
    "\n",
    "- The last expression (a) is evaluated as 6\n",
    "\n",
    "#### Explaination in for all stages:\n",
    "\n",
    "1) In the initial stage:\n",
    "   - Module initializes with `a = 0` (global variable)\n",
    "   - Function `b()` uses the global variable `a`\n",
    "   - Function `c(a)` takes a parameter and returns `a + 2`\n",
    "\n",
    "2) Each call to `b()`:\n",
    "\n",
    "- First `b()` call:\n",
    "   - `a` is 0 (initial value)\n",
    "   - `b()` calls `c(0)`\n",
    "   - `c(0)` returns 0 + 2 = 2\n",
    "   - So, the global `a` becomes 2\n",
    "\n",
    "- Second `b()` call:\n",
    "   - `a` is 2 (from previous call)\n",
    "   - `b()` calls `c(2)`\n",
    "   - `c(2)` returns 2 + 2 = 4\n",
    "   - So, the global `a` becomes 4\n",
    "\n",
    "- Third `b()` call:\n",
    "   - `a` is 4 (from previous call)\n",
    "   - `b()` calls `c(4)`\n",
    "   - `c(4)` returns 4 + 2 = 6\n",
    "   - So, the global `a` becomes 6\n",
    "\n",
    "3) Finally, `a` is evaluated:\n",
    "   - It displays 6 (the latest/current value of the global variable `a`)\n",
    "\n",
    "Therefore, 6 is displayed when the last expression is evaluated.\n",
    "\n",
    "#### NOTE:\n",
    "- The `global` keyword in `b()` ensures we're modifying the module-level variable `a`\n",
    "- Each call to `b()` increases the value of `a` by 2 via function `c()`\n",
    "- Three calls result in three increases of value 2. From starting of 0: 0 -> 2 -> 4 -> 6"
   ]
  },
  {
   "cell_type": "markdown",
   "id": "8285a002-e28a-4ed8-91c7-b1700cec67b5",
   "metadata": {},
   "source": [
    "## Question 2"
   ]
  },
  {
   "cell_type": "code",
   "execution_count": 6,
   "id": "72458f3c-9b11-4fa9-8872-53390e7fb7a4",
   "metadata": {
    "tags": []
   },
   "outputs": [],
   "source": [
    "def file_length(file_name):\n",
    "    try:\n",
    "        file = open(file_name)\n",
    "        contents = file.read()\n",
    "        file.close()\n",
    "        print(len(contents))\n",
    "    except FileNotFoundError:\n",
    "        print(f\"File {file_name} not found.\")"
   ]
  },
  {
   "cell_type": "code",
   "execution_count": 7,
   "id": "674d4874-137a-4275-bf0f-a2fc6b9b462a",
   "metadata": {
    "tags": []
   },
   "outputs": [
    {
     "name": "stdout",
     "output_type": "stream",
     "text": [
      "1242\n"
     ]
    }
   ],
   "source": [
    "file_length(\"hadoop.txt\")"
   ]
  },
  {
   "cell_type": "code",
   "execution_count": 8,
   "id": "eb09b3de-eafc-449a-b95e-1586500e9bf4",
   "metadata": {
    "tags": []
   },
   "outputs": [
    {
     "name": "stdout",
     "output_type": "stream",
     "text": [
      "File adoop.txt not found.\n"
     ]
    }
   ],
   "source": [
    "file_length(\"adoop.txt\")"
   ]
  },
  {
   "cell_type": "markdown",
   "id": "7d27fa4e-b623-494c-8941-4da7149201df",
   "metadata": {},
   "source": [
    "## Question 3"
   ]
  },
  {
   "cell_type": "code",
   "execution_count": 9,
   "id": "c8ff7398-cdde-4f20-b4fd-47f9341010ab",
   "metadata": {
    "tags": []
   },
   "outputs": [],
   "source": [
    "class Marsupial:\n",
    "    def __init__(self):\n",
    "        # Initialize an empty list to store pouch contents\n",
    "        self.pouch = []\n",
    "    \n",
    "    def put_in_pouch(self, item):\n",
    "        # Add an item to the pouch\n",
    "        self.pouch.append(item)\n",
    "    \n",
    "    def pouch_contents(self):\n",
    "        # Return the list of items in the pouch\n",
    "        return self.pouch"
   ]
  },
  {
   "cell_type": "code",
   "execution_count": 10,
   "id": "a106a375-5bdb-49d5-a550-bae6250c8b18",
   "metadata": {
    "tags": []
   },
   "outputs": [],
   "source": [
    "m = Marsupial()"
   ]
  },
  {
   "cell_type": "code",
   "execution_count": 11,
   "id": "dd05df8f-389d-406c-b8a0-93717be7f0aa",
   "metadata": {
    "tags": []
   },
   "outputs": [],
   "source": [
    "m.put_in_pouch('doll')"
   ]
  },
  {
   "cell_type": "code",
   "execution_count": 12,
   "id": "c7b2710f-6244-4266-991d-8dfe69d39d7d",
   "metadata": {
    "tags": []
   },
   "outputs": [],
   "source": [
    "m.put_in_pouch('firetruck')"
   ]
  },
  {
   "cell_type": "code",
   "execution_count": 13,
   "id": "dbd82aee-fee1-4c4b-b7d8-01945c00b0ca",
   "metadata": {
    "tags": []
   },
   "outputs": [],
   "source": [
    "m.put_in_pouch('kitten')"
   ]
  },
  {
   "cell_type": "code",
   "execution_count": 14,
   "id": "85f61b9d-1544-4baf-9350-4a9b550db316",
   "metadata": {
    "tags": []
   },
   "outputs": [
    {
     "data": {
      "text/plain": [
       "['doll', 'firetruck', 'kitten']"
      ]
     },
     "execution_count": 14,
     "metadata": {},
     "output_type": "execute_result"
    }
   ],
   "source": [
    "m.pouch_contents()"
   ]
  },
  {
   "cell_type": "code",
   "execution_count": 15,
   "id": "f7cbdd9e-e62e-4b52-a2de-b2d5e813b8fe",
   "metadata": {
    "tags": []
   },
   "outputs": [],
   "source": [
    "class Kangaroo(Marsupial):\n",
    "    def __init__(self, x, y):\n",
    "        # Call the parent class's __init__\n",
    "        super().__init__()\n",
    "        # Store the coordinates\n",
    "        self.x = x\n",
    "        self.y = y\n",
    "    \n",
    "    def jump(self, dx, dy):\n",
    "        # Update the kangaroo's position\n",
    "        self.x += dx\n",
    "        self.y += dy\n",
    "    \n",
    "    def __str__(self):\n",
    "        # Return a string representation of the kangaroo\n",
    "        return f\"I am a Kangaroo located at coordinates ({self.x},{self.y})\""
   ]
  },
  {
   "cell_type": "code",
   "execution_count": 16,
   "id": "391a3645-f53d-4a3a-a9fd-975653b33758",
   "metadata": {
    "tags": []
   },
   "outputs": [],
   "source": [
    "k = Kangaroo(0,0)"
   ]
  },
  {
   "cell_type": "code",
   "execution_count": 17,
   "id": "7ecce04c-d94d-463d-a428-89e0e99e74fa",
   "metadata": {
    "tags": []
   },
   "outputs": [
    {
     "name": "stdout",
     "output_type": "stream",
     "text": [
      "I am a Kangaroo located at coordinates (0,0)\n"
     ]
    }
   ],
   "source": [
    "print(k)"
   ]
  },
  {
   "cell_type": "code",
   "execution_count": 18,
   "id": "1014dfab-7f6f-4e10-8098-0e2f10cfda93",
   "metadata": {
    "tags": []
   },
   "outputs": [],
   "source": [
    "k.put_in_pouch('doll')"
   ]
  },
  {
   "cell_type": "code",
   "execution_count": 19,
   "id": "8330e2c6-f523-4195-ab86-e8f550621d65",
   "metadata": {
    "tags": []
   },
   "outputs": [],
   "source": [
    "k.put_in_pouch('firetruck')"
   ]
  },
  {
   "cell_type": "code",
   "execution_count": 20,
   "id": "005ef59e-1048-4013-b393-98f967181013",
   "metadata": {
    "tags": []
   },
   "outputs": [],
   "source": [
    "k.put_in_pouch('kitten')"
   ]
  },
  {
   "cell_type": "code",
   "execution_count": 21,
   "id": "2752c4a8-bf02-49c0-825a-4e8b3103406e",
   "metadata": {
    "tags": []
   },
   "outputs": [
    {
     "data": {
      "text/plain": [
       "['doll', 'firetruck', 'kitten']"
      ]
     },
     "execution_count": 21,
     "metadata": {},
     "output_type": "execute_result"
    }
   ],
   "source": [
    "k.pouch_contents()"
   ]
  },
  {
   "cell_type": "code",
   "execution_count": 22,
   "id": "714745ae-0b4c-4249-afe9-4b77f226bc2a",
   "metadata": {
    "tags": []
   },
   "outputs": [],
   "source": [
    "k.jump(1,0)"
   ]
  },
  {
   "cell_type": "code",
   "execution_count": 23,
   "id": "f39a7c38-348f-4fee-8365-c0e25ffd208b",
   "metadata": {
    "tags": []
   },
   "outputs": [],
   "source": [
    "k.jump(1,0)"
   ]
  },
  {
   "cell_type": "code",
   "execution_count": 24,
   "id": "4736345f-62d1-412b-921c-d2a84cb29c5c",
   "metadata": {
    "tags": []
   },
   "outputs": [],
   "source": [
    "k.jump(1,0)"
   ]
  },
  {
   "cell_type": "code",
   "execution_count": 25,
   "id": "d4d10271-f904-4fe0-97c4-a9021ee2c5bb",
   "metadata": {
    "tags": []
   },
   "outputs": [
    {
     "name": "stdout",
     "output_type": "stream",
     "text": [
      "I am a Kangaroo located at coordinates (3,0)\n"
     ]
    }
   ],
   "source": [
    "print(k)"
   ]
  },
  {
   "cell_type": "markdown",
   "id": "97741975-52da-4b0c-8d53-e3823a05b91d",
   "metadata": {},
   "source": [
    "## Question 4"
   ]
  },
  {
   "cell_type": "code",
   "execution_count": 26,
   "id": "4c0fad57-b933-427f-81a7-494243fa70e8",
   "metadata": {
    "tags": []
   },
   "outputs": [],
   "source": [
    "def collatz(x):\n",
    "    # Print current number\n",
    "    print(x)\n",
    "    \n",
    "    # Base case: stop recursion when we reach 1\n",
    "    if x == 1:\n",
    "        return\n",
    "    \n",
    "    # Recursive calls\n",
    "    if x % 2 == 0:  # If x is even\n",
    "        collatz(x // 2)\n",
    "    else:  # If x is odd\n",
    "        collatz(3 * x + 1)"
   ]
  },
  {
   "cell_type": "code",
   "execution_count": 27,
   "id": "326a65da-cb3d-40d6-9a85-47ffb15d040b",
   "metadata": {
    "tags": []
   },
   "outputs": [
    {
     "name": "stdout",
     "output_type": "stream",
     "text": [
      "1\n"
     ]
    }
   ],
   "source": [
    "collatz(1)"
   ]
  },
  {
   "cell_type": "code",
   "execution_count": 28,
   "id": "c0fdfbe9-f42d-4ffa-9d29-5f77d8cf645b",
   "metadata": {
    "tags": []
   },
   "outputs": [
    {
     "name": "stdout",
     "output_type": "stream",
     "text": [
      "10\n",
      "5\n",
      "16\n",
      "8\n",
      "4\n",
      "2\n",
      "1\n"
     ]
    }
   ],
   "source": [
    "collatz(10)"
   ]
  },
  {
   "cell_type": "markdown",
   "id": "f184637f-10cc-470b-9c70-372179f45eab",
   "metadata": {},
   "source": [
    "## Question 5"
   ]
  },
  {
   "cell_type": "code",
   "execution_count": 29,
   "id": "1bfa51fd-85b1-47c8-9d26-d4e270a707f7",
   "metadata": {
    "tags": []
   },
   "outputs": [],
   "source": [
    "def binary(n):\n",
    "    # Base cases\n",
    "    if n == 0:\n",
    "        print(0, end='')\n",
    "        return\n",
    "    elif n == 1:\n",
    "        print(1, end='')\n",
    "        return\n",
    "    \n",
    "    # Recursive case\n",
    "    # First calculate the binary representation of n//2\n",
    "    binary(n // 2)\n",
    "    # Then print the last digit (n % 2), without a newline\n",
    "    print(n % 2, end='')"
   ]
  },
  {
   "cell_type": "code",
   "execution_count": 30,
   "id": "7b69ad93-9347-49a3-931e-a642f793282d",
   "metadata": {
    "tags": []
   },
   "outputs": [
    {
     "name": "stdout",
     "output_type": "stream",
     "text": [
      "0"
     ]
    }
   ],
   "source": [
    "binary(0)"
   ]
  },
  {
   "cell_type": "code",
   "execution_count": 31,
   "id": "3a1c2715-cd96-4bba-9010-3d25a34d7ab9",
   "metadata": {
    "tags": []
   },
   "outputs": [
    {
     "name": "stdout",
     "output_type": "stream",
     "text": [
      "1"
     ]
    }
   ],
   "source": [
    "binary(1)"
   ]
  },
  {
   "cell_type": "code",
   "execution_count": 32,
   "id": "ff6c174f-0f76-4b46-b356-2d872fd62fc5",
   "metadata": {
    "tags": []
   },
   "outputs": [
    {
     "name": "stdout",
     "output_type": "stream",
     "text": [
      "11"
     ]
    }
   ],
   "source": [
    "binary(3)"
   ]
  },
  {
   "cell_type": "code",
   "execution_count": 33,
   "id": "bc5dab28-a750-418e-853c-74e806732131",
   "metadata": {
    "tags": []
   },
   "outputs": [
    {
     "name": "stdout",
     "output_type": "stream",
     "text": [
      "1001"
     ]
    }
   ],
   "source": [
    "binary(9)"
   ]
  },
  {
   "cell_type": "markdown",
   "id": "862f3ff5-6da3-4766-9d90-878ca0b0020f",
   "metadata": {},
   "source": [
    "## Question 6"
   ]
  },
  {
   "cell_type": "code",
   "execution_count": 34,
   "id": "562710a1-4af3-44f8-9d0e-54797785c03b",
   "metadata": {
    "tags": []
   },
   "outputs": [],
   "source": [
    "from html.parser import HTMLParser\n",
    "\n",
    "class HeadingParser(HTMLParser):\n",
    "    def __init__(self):\n",
    "        super().__init__()\n",
    "        \n",
    "    def handle_starttag(self, tag, attrs):\n",
    "        # Check if tag is a heading (h1 through h6)\n",
    "        if tag[0] == 'h' and len(tag) == 2 and tag[1].isdigit():\n",
    "            # Store the heading level (1-6) to use for indentation\n",
    "            self.heading_level = int(tag[1]) - 1\n",
    "            \n",
    "    def handle_data(self, data):\n",
    "        # Check if we're currently processing a heading tag\n",
    "        if hasattr(self, 'heading_level'):\n",
    "            # Print the data with proper indentation\n",
    "            # Each heading level increases indentation by one\n",
    "            print(\"\\t\" * self.heading_level + data.strip())\n",
    "            # Remove the heading_level attribute until next heading\n",
    "\n",
    "            delattr(self, 'heading_level')"
   ]
  },
  {
   "cell_type": "code",
   "execution_count": 35,
   "id": "9ade75d5-6e03-4e93-bc53-c2cf8e36faa9",
   "metadata": {
    "tags": []
   },
   "outputs": [],
   "source": [
    "infile = open('w3c.txt')"
   ]
  },
  {
   "cell_type": "code",
   "execution_count": 36,
   "id": "d5ed9613-9688-4cc9-bbe3-c16981a315f9",
   "metadata": {
    "tags": []
   },
   "outputs": [],
   "source": [
    "content = infile.read()"
   ]
  },
  {
   "cell_type": "code",
   "execution_count": 37,
   "id": "6b6596c8-c3e7-4890-b148-504531ecd4f8",
   "metadata": {
    "tags": []
   },
   "outputs": [],
   "source": [
    "infile.close()"
   ]
  },
  {
   "cell_type": "code",
   "execution_count": 38,
   "id": "52851643-60dc-4171-83e0-e66c27fdf707",
   "metadata": {
    "tags": []
   },
   "outputs": [],
   "source": [
    "hp = HeadingParser()"
   ]
  },
  {
   "cell_type": "code",
   "execution_count": 39,
   "id": "0b84b5c0-64d8-4ea0-b584-bfe4d4aa8376",
   "metadata": {
    "tags": []
   },
   "outputs": [
    {
     "name": "stdout",
     "output_type": "stream",
     "text": [
      "W3C Mission\n",
      "\tPrinciples\n"
     ]
    }
   ],
   "source": [
    "hp.feed(content)"
   ]
  },
  {
   "cell_type": "markdown",
   "id": "71d929a0-24a3-47dc-822d-1fc346643c61",
   "metadata": {},
   "source": [
    "## Question 7"
   ]
  },
  {
   "cell_type": "code",
   "execution_count": 40,
   "id": "8a559656-b241-4ff3-9290-c2ef71270779",
   "metadata": {},
   "outputs": [],
   "source": [
    "from urllib.request import urlopen\n",
    "from urllib.parse import urljoin\n",
    "from html.parser import HTMLParser\n",
    "import re\n",
    "\n",
    "class LinkParser(HTMLParser):\n",
    "    \"\"\"HTML Parser for extracting hyperlinks\"\"\"\n",
    "    def __init__(self):\n",
    "        super().__init__()\n",
    "        self.links = []\n",
    "\n",
    "    def handle_starttag(self, tag, attrs):\n",
    "        # Look for <a href=\"...\"> tags\n",
    "        if tag == 'a':\n",
    "            for attr in attrs:\n",
    "                if attr[0] == 'href':\n",
    "                    self.links.append(attr[1])\n",
    "\n",
    "def get_links(url):\n",
    "    \"\"\"Returns list of links from a URL\"\"\"\n",
    "    try:\n",
    "        # Open and read the URL\n",
    "        response = urlopen(url)\n",
    "        html_content = response.read().decode('utf-8')\n",
    "        response.close()\n",
    "\n",
    "        # Parse the HTML content for links\n",
    "        parser = LinkParser()\n",
    "        parser.feed(html_content)\n",
    "        \n",
    "        # Convert relative URLs to absolute URLs\n",
    "        absolute_links = [urljoin(url, link) for link in parser.links]\n",
    "        \n",
    "        return absolute_links\n",
    "    except:\n",
    "        return []\n",
    "\n",
    "def webdir(url, depth, indent):\n",
    "    \"\"\"Recursively traverse web pages up to specified depth\"\"\"\n",
    "    # Print current URL with proper indentation\n",
    "    print('\\t' * indent + url)\n",
    "    \n",
    "    # Base case: if depth is 0, stop recursion\n",
    "    if depth == 0:\n",
    "        return\n",
    "    \n",
    "    # Get all links from current page\n",
    "    links = get_links(url)\n",
    "    \n",
    "    # Recursively visit each link with decreased depth\n",
    "    for link in links:\n",
    "        webdir(link, depth - 1, indent + 1)"
   ]
  },
  {
   "cell_type": "code",
   "execution_count": 41,
   "id": "3e53f91c-53a9-45bd-a7af-8764caee595f",
   "metadata": {
    "tags": []
   },
   "outputs": [
    {
     "name": "stdout",
     "output_type": "stream",
     "text": [
      "https://www.youtube.com/\n",
      "\thttps://www.youtube.com/\n",
      "\t\thttps://www.youtube.com/\n",
      "\t\thttps://www.youtube.com/\n",
      "\t\thttps://www.youtube.com/about/\n",
      "\t\thttps://www.youtube.com/about/press/\n",
      "\t\thttps://www.youtube.com/about/copyright/\n",
      "\t\thttps://www.youtube.com/t/contact_us/\n",
      "\t\thttps://www.youtube.com/creators/\n",
      "\t\thttps://www.youtube.com/ads/\n",
      "\t\thttps://developers.google.com/youtube\n",
      "\t\thttps://www.youtube.com/t/terms\n",
      "\t\thttps://www.youtube.com/t/privacy\n",
      "\t\thttps://www.youtube.com/about/policies/\n",
      "\t\thttps://www.youtube.com/howyoutubeworks?utm_campaign=ytgen&utm_source=ythp&utm_medium=LeftNav&utm_content=txt&u=https%3A%2F%2Fwww.youtube.com%2Fhowyoutubeworks%3Futm_source%3Dythp%26utm_medium%3DLeftNav%26utm_campaign%3Dytgen\n",
      "\t\thttps://www.youtube.com/new\n",
      "\t\thttps://www.google.com/accessibility/get-in-touch/\n",
      "\thttps://www.youtube.com/\n",
      "\t\thttps://www.youtube.com/\n",
      "\t\thttps://www.youtube.com/\n",
      "\t\thttps://www.youtube.com/about/\n",
      "\t\thttps://www.youtube.com/about/press/\n",
      "\t\thttps://www.youtube.com/about/copyright/\n",
      "\t\thttps://www.youtube.com/t/contact_us/\n",
      "\t\thttps://www.youtube.com/creators/\n",
      "\t\thttps://www.youtube.com/ads/\n",
      "\t\thttps://developers.google.com/youtube\n",
      "\t\thttps://www.youtube.com/t/terms\n",
      "\t\thttps://www.youtube.com/t/privacy\n",
      "\t\thttps://www.youtube.com/about/policies/\n",
      "\t\thttps://www.youtube.com/howyoutubeworks?utm_campaign=ytgen&utm_source=ythp&utm_medium=LeftNav&utm_content=txt&u=https%3A%2F%2Fwww.youtube.com%2Fhowyoutubeworks%3Futm_source%3Dythp%26utm_medium%3DLeftNav%26utm_campaign%3Dytgen\n",
      "\t\thttps://www.youtube.com/new\n",
      "\t\thttps://www.google.com/accessibility/get-in-touch/\n",
      "\thttps://www.youtube.com/about/\n",
      "\t\thttps://www.youtube.com/\n",
      "\t\thttps://www.youtube.com/about/#content\n",
      "\t\thttps://www.youtube.com/howyoutubeworks/\n",
      "\t\thttps://www.youtube.com/creators/\n",
      "\t\thttps://www.youtube.com/trends/\n",
      "\t\thttps://blog.youtube/\n",
      "\t\thttps://twitter.com/YouTube\n",
      "\t\thttps://www.instagram.com/youtube/\n",
      "\t\thttps://www.facebook.com/youtube/?ref=br_r\n",
      "\t\thttps://www.youtube.com/about/\n",
      "\t\thttps://blog.youtube/\n",
      "\t\thttps://www.youtube.com/howyoutubeworks/\n",
      "\t\thttps://www.youtube.com/jobs/\n",
      "\t\thttps://blog.youtube/press/\n",
      "\t\thttps://www.youtube.com/trends/\n",
      "\t\thttps://tv.youtube.com/learn/nflsundayticket\n",
      "\t\thttps://www.youtube.com/kids/\n",
      "\t\thttps://www.youtube.com/musicpremium\n",
      "\t\thttps://www.youtube.com/channel/UCqVDpXKLmKeBU_yyt_QkItQ\n",
      "\t\thttps://www.youtube.com/creators/podcasts/\n",
      "\t\thttps://www.youtube.com/premium/\n",
      "\t\thttps://www.youtube.com/ads/youtube-select/\n",
      "\t\thttps://studio.youtube.com/\n",
      "\t\thttps://tv.youtube.com/\n",
      "\t\thttps://developers.google.com/youtube\n",
      "\t\thttps://www.youtube.com/ads/\n",
      "\t\thttps://www.youtube.com/yt/family/\n",
      "\t\thttps://www.youtube.com/creatorresearch/\n",
      "\t\thttps://servicesdirectory.withyoutube.com/\n",
      "\t\thttps://artists.youtube.com/\n",
      "\t\thttps://www.youtube.com/creators/\n",
      "\t\thttps://www.youtube.com/nextup/\n",
      "\t\thttps://vr.youtube.com/\n",
      "\t\thttps://www.youtube.com/creators-for-change/\n",
      "\t\thttps://www.youtube.com/csai-match/\n",
      "\t\thttps://socialimpact.youtube.com/\n",
      "\t\thttps://www.youtube.com/about/\n",
      "\t\thttps://blog.youtube/\n",
      "\t\thttps://www.youtube.com/howyoutubeworks/\n",
      "\t\thttps://www.youtube.com/jobs/\n",
      "\t\thttps://blog.youtube/press/\n",
      "\t\thttps://www.youtube.com/trends/\n",
      "\t\thttps://tv.youtube.com/learn/nflsundayticket\n",
      "\t\thttps://www.youtube.com/kids/\n",
      "\t\thttps://www.youtube.com/musicpremium\n",
      "\t\thttps://www.youtube.com/channel/UCqVDpXKLmKeBU_yyt_QkItQ\n",
      "\t\thttps://www.youtube.com/creators/podcasts/\n",
      "\t\thttps://www.youtube.com/premium/\n",
      "\t\thttps://www.youtube.com/ads/youtube-select/\n",
      "\t\thttps://studio.youtube.com/\n",
      "\t\thttps://tv.youtube.com/\n",
      "\t\thttps://developers.google.com/youtube\n",
      "\t\thttps://www.youtube.com/ads/\n",
      "\t\thttps://www.youtube.com/yt/family/\n",
      "\t\thttps://www.youtube.com/creatorresearch/\n",
      "\t\thttps://servicesdirectory.withyoutube.com/\n",
      "\t\thttps://artists.youtube.com/\n",
      "\t\thttps://www.youtube.com/creators/\n",
      "\t\thttps://www.youtube.com/nextup/\n",
      "\t\thttps://vr.youtube.com/\n",
      "\t\thttps://www.youtube.com/creators-for-change/\n",
      "\t\thttps://www.youtube.com/csai-match/\n",
      "\t\thttps://socialimpact.youtube.com/\n",
      "\t\thttps://www.youtube.com\n",
      "\t\thttps://www.youtube.com/about/policies/\n",
      "\t\thttps://www.youtube.com/about/copyright/\n",
      "\t\thttps://www.youtube.com/about/brand-resources/\n",
      "\t\thttps://www.google.com/policies/privacy/\n",
      "\t\thttps://www.youtube.com/t/terms\n",
      "\t\thttps://support.google.com/youtube/#topic=9257498\n",
      "\thttps://www.youtube.com/about/press/\n",
      "\t\thttps://www.youtube.com/about/press/#jump-content\n",
      "\t\thttps://www.youtube.com/\n",
      "\t\thttps://www.youtube.com/news-and-events\n",
      "\t\thttps://www.youtube.com/creator-and-artist-stories\n",
      "\t\thttps://www.youtube.com/culture-and-trends\n",
      "\t\thttps://www.youtube.com/inside-youtube\n",
      "\t\thttps://www.youtube.com/madeonyoutube\n",
      "\t\thttps://blog.youtube/creator-and-artist-stories/michelle-khare-breaking-barriers-and-redefining-digital-content-creation/\n",
      "\t\thttps://blog.youtube/creator-and-artist-stories/\n",
      "\t\thttps://blog.youtube/creator-and-artist-stories/michelle-khare-breaking-barriers-and-redefining-digital-content-creation/\n",
      "\t\thttps://blog.youtube/culture-and-trends/halloween-shorts-templates/\n",
      "\t\thttps://blog.youtube/culture-and-trends/\n",
      "\t\thttps://blog.youtube/culture-and-trends/halloween-shorts-templates/\n",
      "\t\thttps://blog.youtube/creator-and-artist-stories/nfl-creator-of-the-week-recap-the-hulett-brothers/\n",
      "\t\thttps://blog.youtube/creator-and-artist-stories/\n",
      "\t\thttps://blog.youtube/creator-and-artist-stories/nfl-creator-of-the-week-recap-the-hulett-brothers/\n",
      "\t\thttps://blog.youtube/news-and-events/2024-us-election/\n",
      "\t\thttps://blog.youtube/news-and-events/\n",
      "\t\thttps://blog.youtube/news-and-events/2024-us-election/\n",
      "\t\thttps://blog.youtube/creator-and-artist-stories/delilah/\n",
      "\t\thttps://blog.youtube/creator-and-artist-stories/\n",
      "\t\thttps://blog.youtube/creator-and-artist-stories/delilah/\n",
      "\t\thttps://blog.youtube/creator-and-artist-stories/michelle-khare-breaking-barriers-and-redefining-digital-content-creation/\n",
      "\t\thttps://blog.youtube/creator-and-artist-stories/\n",
      "\t\thttps://blog.youtube/creator-and-artist-stories/michelle-khare-breaking-barriers-and-redefining-digital-content-creation/\n",
      "\t\thttps://blog.youtube/culture-and-trends/halloween-shorts-templates/\n",
      "\t\thttps://blog.youtube/culture-and-trends/\n",
      "\t\thttps://blog.youtube/culture-and-trends/halloween-shorts-templates/\n",
      "\t\thttps://blog.youtube/creator-and-artist-stories/nfl-creator-of-the-week-recap-the-hulett-brothers/\n",
      "\t\thttps://blog.youtube/creator-and-artist-stories/\n",
      "\t\thttps://blog.youtube/creator-and-artist-stories/nfl-creator-of-the-week-recap-the-hulett-brothers/\n",
      "\t\thttps://blog.youtube/news-and-events/2024-us-election/\n",
      "\t\thttps://blog.youtube/news-and-events/\n",
      "\t\thttps://blog.youtube/news-and-events/2024-us-election/\n",
      "\t\thttps://blog.youtube/creator-and-artist-stories/delilah/\n",
      "\t\thttps://blog.youtube/creator-and-artist-stories/\n",
      "\t\thttps://blog.youtube/creator-and-artist-stories/delilah/\n",
      "\t\thttps://blog.youtube/creator-and-artist-stories/michelle-khare-breaking-barriers-and-redefining-digital-content-creation/\n",
      "\t\thttps://blog.youtube/creator-and-artist-stories/\n",
      "\t\thttps://blog.youtube/creator-and-artist-stories/michelle-khare-breaking-barriers-and-redefining-digital-content-creation/\n",
      "\t\thttps://blog.youtube/culture-and-trends/halloween-shorts-templates/\n",
      "\t\thttps://blog.youtube/culture-and-trends/\n",
      "\t\thttps://blog.youtube/culture-and-trends/halloween-shorts-templates/\n",
      "\t\thttps://blog.youtube/creator-and-artist-stories/nfl-creator-of-the-week-recap-the-hulett-brothers/\n",
      "\t\thttps://blog.youtube/creator-and-artist-stories/\n",
      "\t\thttps://blog.youtube/creator-and-artist-stories/nfl-creator-of-the-week-recap-the-hulett-brothers/\n",
      "\t\thttps://blog.youtube/news-and-events/2024-us-election/\n",
      "\t\thttps://blog.youtube/news-and-events/\n",
      "\t\thttps://blog.youtube/news-and-events/2024-us-election/\n",
      "\t\thttps://blog.youtube/creator-and-artist-stories/delilah/\n",
      "\t\thttps://blog.youtube/creator-and-artist-stories/\n",
      "\t\thttps://blog.youtube/creator-and-artist-stories/delilah/\n",
      "\t\thttps://blog.youtube/creator-and-artist-stories/michelle-khare-breaking-barriers-and-redefining-digital-content-creation/\n",
      "\t\thttps://blog.youtube/creator-and-artist-stories/\n",
      "\t\thttps://blog.youtube/creator-and-artist-stories/michelle-khare-breaking-barriers-and-redefining-digital-content-creation/\n",
      "\t\thttps://blog.youtube/culture-and-trends/halloween-shorts-templates/\n",
      "\t\thttps://blog.youtube/culture-and-trends/\n",
      "\t\thttps://blog.youtube/culture-and-trends/halloween-shorts-templates/\n",
      "\t\thttps://blog.youtube/creator-and-artist-stories/nfl-creator-of-the-week-recap-the-hulett-brothers/\n",
      "\t\thttps://blog.youtube/creator-and-artist-stories/\n",
      "\t\thttps://blog.youtube/creator-and-artist-stories/nfl-creator-of-the-week-recap-the-hulett-brothers/\n",
      "\t\thttps://blog.youtube/news-and-events/2024-us-election/\n",
      "\t\thttps://blog.youtube/news-and-events/\n",
      "\t\thttps://blog.youtube/news-and-events/2024-us-election/\n",
      "\t\thttps://blog.youtube/creator-and-artist-stories/delilah/\n",
      "\t\thttps://blog.youtube/creator-and-artist-stories/\n",
      "\t\thttps://blog.youtube/creator-and-artist-stories/delilah/\n",
      "\t\thttps://blog.youtube/creator-and-artist-stories/michelle-khare-breaking-barriers-and-redefining-digital-content-creation/\n",
      "\t\thttps://blog.youtube/creator-and-artist-stories/\n",
      "\t\thttps://blog.youtube/creator-and-artist-stories/michelle-khare-breaking-barriers-and-redefining-digital-content-creation/\n",
      "\t\thttps://blog.youtube/culture-and-trends/halloween-shorts-templates/\n",
      "\t\thttps://blog.youtube/culture-and-trends/\n",
      "\t\thttps://blog.youtube/culture-and-trends/halloween-shorts-templates/\n",
      "\t\thttps://blog.youtube/creator-and-artist-stories/nfl-creator-of-the-week-recap-the-hulett-brothers/\n",
      "\t\thttps://blog.youtube/creator-and-artist-stories/\n",
      "\t\thttps://blog.youtube/creator-and-artist-stories/nfl-creator-of-the-week-recap-the-hulett-brothers/\n",
      "\t\thttps://blog.youtube/news-and-events/2024-us-election/\n",
      "\t\thttps://blog.youtube/news-and-events/\n",
      "\t\thttps://blog.youtube/news-and-events/2024-us-election/\n",
      "\t\thttps://blog.youtube/creator-and-artist-stories/delilah/\n",
      "\t\thttps://blog.youtube/creator-and-artist-stories/\n",
      "\t\thttps://blog.youtube/creator-and-artist-stories/delilah/\n",
      "\t\thttps://blog.youtube/creator-and-artist-stories/michelle-khare-breaking-barriers-and-redefining-digital-content-creation/\n",
      "\t\thttps://blog.youtube/creator-and-artist-stories/\n",
      "\t\thttps://blog.youtube/creator-and-artist-stories/michelle-khare-breaking-barriers-and-redefining-digital-content-creation/\n",
      "\t\thttps://blog.youtube/culture-and-trends/halloween-shorts-templates/\n",
      "\t\thttps://blog.youtube/culture-and-trends/\n",
      "\t\thttps://blog.youtube/culture-and-trends/halloween-shorts-templates/\n",
      "\t\thttps://blog.youtube/creator-and-artist-stories/nfl-creator-of-the-week-recap-the-hulett-brothers/\n",
      "\t\thttps://blog.youtube/creator-and-artist-stories/\n",
      "\t\thttps://blog.youtube/creator-and-artist-stories/nfl-creator-of-the-week-recap-the-hulett-brothers/\n",
      "\t\thttps://blog.youtube/news-and-events/2024-us-election/\n",
      "\t\thttps://blog.youtube/news-and-events/\n",
      "\t\thttps://blog.youtube/news-and-events/2024-us-election/\n",
      "\t\thttps://blog.youtube/creator-and-artist-stories/delilah/\n",
      "\t\thttps://blog.youtube/creator-and-artist-stories/\n",
      "\t\thttps://blog.youtube/creator-and-artist-stories/delilah/\n",
      "\t\thttps://blog.youtube/creator-and-artist-stories/book-mobile/\n",
      "\t\thttps://blog.youtube/creator-and-artist-stories/\n",
      "\t\thttps://blog.youtube/creator-and-artist-stories/book-mobile/\n",
      "\t\thttps://www.youtube.com/search/?domain=youtube&tags=creators\n",
      "\t\thttps://www.youtube.com/search/?domain=youtube&tags=youtube-trending\n",
      "\t\thttps://blog.youtube/culture-and-trends/booktube-list/\n",
      "\t\thttps://blog.youtube/culture-and-trends/\n",
      "\t\thttps://blog.youtube/culture-and-trends/booktube-list/\n",
      "\t\thttps://www.youtube.com/search/?domain=youtube&tags=youtube-yoodles\n",
      "\t\thttps://www.youtube.com/search/?domain=youtube&tags=culture-and-trends\n",
      "\t\thttps://www.youtube.com/search/?domain=youtube&tags=youtube-trending\n",
      "\t\thttps://blog.youtube/creator-and-artist-stories/taha-khan/\n",
      "\t\thttps://blog.youtube/creator-and-artist-stories/\n",
      "\t\thttps://blog.youtube/creator-and-artist-stories/taha-khan/\n",
      "\t\thttps://www.youtube.com/search/?domain=youtube&tags=creators\n",
      "\t\thttps://www.youtube.com/search/?domain=youtube&tags=learning-and-education\n",
      "\t\thttps://www.youtube.com/search/?domain=youtube&tags=youtube-trending\n",
      "\t\thttps://blog.youtube/culture-and-trends/start-a-book-club-on-youtube/\n",
      "\t\thttps://blog.youtube/culture-and-trends/\n",
      "\t\thttps://blog.youtube/culture-and-trends/start-a-book-club-on-youtube/\n",
      "\t\thttps://www.youtube.com/search/?domain=youtube&tags=learning-and-education\n",
      "\t\thttps://www.youtube.com/search/?domain=youtube&tags=creators\n",
      "\t\thttps://www.youtube.com/search/?domain=youtube&tags=youtube-creation\n",
      "\t\thttps://www.youtube.com/search/?domain=youtube&tags=youtube-growth\n",
      "\t\thttps://www.youtube.com/search/?domain=youtube&tags=learning-and-education\n",
      "\t\thttps://www.youtube.com/search/?domain=youtube&tags=artists\n",
      "\t\thttps://www.youtube.com/search/?domain=youtube&tags=youtube-health\n",
      "\t\thttps://www.youtube.com/search/?domain=youtube&tags=learning-and-education\n",
      "\t\thttps://www.youtube.com/search/?domain=youtube&tags=ytpress-made-on-youtube\n",
      "\t\thttps://www.youtube.com/search/?domain=youtube&tags=gaming\n",
      "\t\thttps://www.youtube.com/search/?domain=youtube&tags=youtube-shopping\n",
      "\t\thttps://www.youtube.com/search/?domain=youtube&tags=policy\n",
      "\t\thttps://www.youtube.com/search/?domain=youtube&tags=products-and-features\n",
      "\t\thttps://www.youtube.com/search/?domain=youtube&tags=topics-youtube-work-diaries\n",
      "\t\thttps://www.youtube.com/user/YouTube\n",
      "\t\thttps://www.youtube.com/user/creatoracademy\n",
      "\t\thttps://www.youtube.com/channel/UCGg-UqjRgzhYDPJMr-9HXCg\n",
      "\t\thttps://www.youtube.com/user/YouTubeHelp\n",
      "\t\thttps://www.youtube.com/@YouTubeLiaison\n",
      "\t\thttps://twitter.com/YouTube\n",
      "\t\thttps://twitter.com/YouTubeLiaison\n",
      "\t\thttps://twitter.com/ytcreators\n",
      "\t\thttps://twitter.com/teamyoutube\n",
      "\t\thttps://twitter.com/youtubegaming\n",
      "\t\thttps://twitter.com/youtubetv\n",
      "\t\thttps://twitter.com/youtubemusic?ref_src=twsrc%5Egoogle%7Ctwcamp%5Eserp%7Ctwgr%5Eauthor\n",
      "\t\thttps://twitter.com/YouTubeInsider\n",
      "\t\thttps://www.instagram.com/youtube/\n",
      "\t\thttps://www.facebook.com/youtube\n",
      "\t\thttps://youtube.com/about/\n",
      "\t\thttps://www.youtube.com/press\n",
      "\t\thttps://www.youtube.com/jobs/\n",
      "\t\thttps://www.youtube.com/howyoutubeworks/\n",
      "\t\thttp://youtube.com/trends\n",
      "\t\thttps://support.google.com/youtube/community\n",
      "\t\thttps://www.youtubego.com/\n",
      "\t\thttps://www.youtube.com/kids/\n",
      "\t\thttps://www.youtube.com/musicpremium\n",
      "\t\thttps://www.youtube.com/channel/UCqVDpXKLmKeBU_yyt_QkItQ\n",
      "\t\thttps://www.youtube.com/premium/\n",
      "\t\thttps://studio.youtube.com/\n",
      "\t\thttps://tv.youtube.com/welcome/?zipcode=78702\n",
      "\t\thttps://www.youtube.com/ads/\n",
      "\t\thttps://developers.google.com/youtube\n",
      "\t\thttps://artists.youtube.com/\n",
      "\t\thttps://www.youtube.com/creators/\n",
      "\t\thttps://creatoracademy.youtube.com/page/home\n",
      "\t\thttps://www.youtube.com/yt/family/\n",
      "\t\thttps://youtube.com/creatorresearch/\n",
      "\t\thttps://servicesdirectory.withyoutube.com/\n",
      "\t\thttps://www.youtube.com/nextup/\n",
      "\t\thttps://www.youtube.com/space/\n",
      "\t\thttps://vr.youtube.com/\n",
      "\t\thttps://www.youtube.com/creators-for-change/\n",
      "\t\thttps://youtube.com/csai-match/\n",
      "\t\thttps://socialimpact.youtube.com/\n",
      "\t\thttps://www.youtube.com/\n",
      "\t\thttps://www.youtube.com/about/policies/#community-guidelines\n",
      "\t\thttps://www.youtube.com/about/copyright/#support-and-troubleshooting\n",
      "\t\thttps://www.youtube.com/about/brand-resources/#logos-icons-colors\n",
      "\t\thttps://policies.google.com/privacy\n",
      "\t\thttps://www.youtube.com/t/terms\n",
      "\t\thttps://support.google.com/youtube/community\n",
      "\thttps://www.youtube.com/about/copyright/\n",
      "\t\thttps://www.youtube.com/intl/ALL_ca/howyoutubeworks/\n",
      "\t\thttps://www.youtube.com/about/copyright/#content\n",
      "\t\thttps://www.youtube.com/intl/ALL_ca/howyoutubeworks/our-commitments/managing-harmful-content/\n",
      "\t\thttps://www.youtube.com/intl/ALL_ca/howyoutubeworks/our-commitments/standing-up-to-hate/\n",
      "\t\thttps://www.youtube.com/intl/ALL_ca/howyoutubeworks/our-commitments/fighting-misinformation/\n",
      "\t\thttps://www.youtube.com/intl/ALL_ca/howyoutubeworks/our-commitments/curbing-extremist-content/\n",
      "\t\thttps://www.youtube.com/intl/ALL_ca/howyoutubeworks/our-commitments/supporting-political-integrity/\n",
      "\t\thttps://research.youtube\n",
      "\t\thttps://www.youtube.com/intl/ALL_ca/howyoutubeworks/our-commitments/preventing-bias/\n",
      "\t\thttps://www.youtube.com/intl/ALL_ca/howyoutubeworks/our-commitments/youth-principles/\n",
      "\t\thttps://www.youtube.com/intl/ALL_ca/howyoutubeworks/our-commitments/fostering-child-safety/\n",
      "\t\thttps://www.youtube.com/intl/ALL_ca/howyoutubeworks/our-commitments/protecting-user-data/\n",
      "\t\thttps://www.youtube.com/intl/ALL_ca/howyoutubeworks/our-commitments/safeguarding-copyright/\n",
      "\t\thttps://www.youtube.com/intl/ALL_ca/howyoutubeworks/our-commitments/sharing-revenue/\n",
      "\t\thttps://www.youtube.com/intl/ALL_ca/howyoutubeworks/our-commitments/promoting-digital-wellbeing/\n",
      "\t\thttps://www.youtube.com/intl/ALL_ca/howyoutubeworks/our-commitments/responsible-ai/\n",
      "\t\thttps://www.youtube.com/intl/ALL_ca/howyoutubeworks/product-features/search/\n",
      "\t\thttps://www.youtube.com/intl/ALL_ca/howyoutubeworks/product-features/recommendations/\n",
      "\t\thttps://www.youtube.com/intl/ALL_ca/howyoutubeworks/product-features/news-information/\n",
      "\t\thttps://www.youtube.com/intl/ALL_ca/howyoutubeworks/product-features/monetization/\n",
      "\t\thttps://www.youtube.com/intl/ALL_ca/howyoutubeworks/product-features/live/\n",
      "\t\thttps://www.youtube.com/intl/ALL_ca/howyoutubeworks/user-settings/privacy/\n",
      "\t\thttps://www.youtube.com/intl/ALL_ca/howyoutubeworks/user-settings/ad-settings/\n",
      "\t\thttps://www.youtube.com/intl/ALL_ca/howyoutubeworks/user-settings/parental-controls/\n",
      "\t\thttps://www.youtube.com/intl/ALL_ca/howyoutubeworks/user-settings/autoplay/\n",
      "\t\thttps://www.youtube.com/intl/ALL_ca/howyoutubeworks/policies/overview/\n",
      "\t\thttps://www.youtube.com/intl/ALL_ca/howyoutubeworks/policies/community-guidelines/\n",
      "\t\thttps://www.youtube.com/intl/ALL_ca/howyoutubeworks/policies/copyright/\n",
      "\t\thttps://www.youtube.com/intl/ALL_ca/howyoutubeworks/policies/monetization-policies/\n",
      "\t\thttps://www.youtube.com/intl/ALL_ca/howyoutubeworks/policies/legal-removals/\n",
      "\t\thttps://www.youtube.com/intl/ALL_ca/howyoutubeworks/progress-impact/responsibility/\n",
      "\t\thttps://www.youtube.com/intl/ALL_ca/howyoutubeworks/progress-impact/impact/\n",
      "\t\thttps://www.youtube.com/about/copyright/#overview\n",
      "\t\thttps://www.youtube.com/about/copyright/#copyright-exceptions\n",
      "\t\thttps://www.youtube.com/about/copyright/#making-claims\n",
      "\t\thttps://www.youtube.com/about/copyright/#enforcing-copyright\n",
      "\t\thttps://support.google.com/youtube/answer/3376882\n",
      "\t\thttps://support.google.com/youtube/answer/10623810\n",
      "\t\thttps://support.google.com/youtubecreatormusic\n",
      "\t\thttps://support.google.com/youtube/answer/9783148?hl=en\n",
      "\t\thttps://www.youtube.com/copyright_complaint_form\n",
      "\t\thttps://support.google.com/youtube/answer/7648743\n",
      "\t\thttps://support.google.com/youtube/answer/2797370\n",
      "\t\thttps://support.google.com/youtube/answer/9245819?hl=en&ref_topic=9282364\n",
      "\t\thttps://support.google.com/youtube/answer/2814000?hl=en&p=c_strike_basics\n",
      "\t\thttps://support.google.com/youtube/answer/6013276\n",
      "\t\thttps://support.google.com/youtube/answer/2814000?hl=en&p=c_strike_basics\n",
      "\t\thttps://support.google.com/youtube/answer/2807691?hl=en\n",
      "\t\thttps://support.google.com/youtube/answer/2807684?hl=en\n",
      "\t\thttps://www.youtube.com/intl/ALL_ca/howyoutubeworks/policies/community-guidelines/\n",
      "\t\thttps://www.youtube.com/intl/ALL_ca/howyoutubeworks/our-commitments/safeguarding-copyright/\n",
      "\t\thttps://www.youtube.com/intl/ALL_ca/howyoutubeworks/policies/monetization-policies/\n",
      "\t\thttps://twitter.com/YouTube\n",
      "\t\thttps://www.instagram.com/youtube/\n",
      "\t\thttps://www.facebook.com/youtube/?ref=br_r\n",
      "\t\thttps://www.youtube.com/about/\n",
      "\t\thttps://blog.youtube/\n",
      "\t\thttps://www.youtube.com/howyoutubeworks/\n",
      "\t\thttps://www.youtube.com/jobs/\n",
      "\t\thttps://blog.youtube/press/\n",
      "\t\thttps://www.youtube.com/trends/\n",
      "\t\thttps://tv.youtube.com/learn/nflsundayticket\n",
      "\t\thttps://www.youtube.com/kids/\n",
      "\t\thttps://www.youtube.com/musicpremium\n",
      "\t\thttps://www.youtube.com/channel/UCqVDpXKLmKeBU_yyt_QkItQ\n",
      "\t\thttps://www.youtube.com/creators/podcasts/\n",
      "\t\thttps://www.youtube.com/premium/\n",
      "\t\thttps://www.youtube.com/ads/how-it-works/set-up-a-campaign/youtube-select/\n",
      "\t\thttps://studio.youtube.com/\n",
      "\t\thttps://tv.youtube.com/\n",
      "\t\thttps://developers.google.com/youtube\n",
      "\t\thttps://www.youtube.com/ads/\n",
      "\t\thttps://www.youtube.com/yt/family/\n",
      "\t\thttps://www.youtube.com/creatorresearch/\n",
      "\t\thttps://servicesdirectory.withyoutube.com/\n",
      "\t\thttps://artists.youtube.com/\n",
      "\t\thttps://www.youtube.com/creators/\n",
      "\t\thttps://www.youtube.com/nextup/\n",
      "\t\thttps://vr.youtube.com/\n",
      "\t\thttps://www.youtube.com/creators-for-change/\n",
      "\t\thttps://www.youtube.com/csai-match/\n",
      "\t\thttps://socialimpact.youtube.com/\n",
      "\t\thttps://www.youtube.com/about/\n",
      "\t\thttps://blog.youtube/\n",
      "\t\thttps://www.youtube.com/howyoutubeworks/\n",
      "\t\thttps://www.youtube.com/jobs/\n",
      "\t\thttps://blog.youtube/press/\n",
      "\t\thttps://www.youtube.com/trends/\n",
      "\t\thttps://tv.youtube.com/learn/nflsundayticket\n",
      "\t\thttps://www.youtube.com/kids/\n",
      "\t\thttps://www.youtube.com/musicpremium\n",
      "\t\thttps://www.youtube.com/channel/UCqVDpXKLmKeBU_yyt_QkItQ\n",
      "\t\thttps://www.youtube.com/creators/podcasts/\n",
      "\t\thttps://www.youtube.com/premium/\n",
      "\t\thttps://www.youtube.com/ads/how-it-works/set-up-a-campaign/youtube-select/\n",
      "\t\thttps://studio.youtube.com/\n",
      "\t\thttps://tv.youtube.com/\n",
      "\t\thttps://developers.google.com/youtube\n",
      "\t\thttps://www.youtube.com/ads/\n",
      "\t\thttps://www.youtube.com/yt/family/\n",
      "\t\thttps://www.youtube.com/creatorresearch/\n",
      "\t\thttps://servicesdirectory.withyoutube.com/\n",
      "\t\thttps://artists.youtube.com/\n",
      "\t\thttps://www.youtube.com/creators/\n",
      "\t\thttps://www.youtube.com/nextup/\n",
      "\t\thttps://vr.youtube.com/\n",
      "\t\thttps://www.youtube.com/creators-for-change/\n",
      "\t\thttps://www.youtube.com/csai-match/\n",
      "\t\thttps://socialimpact.youtube.com/\n",
      "\t\thttps://www.youtube.com\n",
      "\t\thttps://www.youtube.com/about/policies/\n",
      "\t\thttps://www.youtube.com/about/copyright/\n",
      "\t\thttps://www.youtube.com/about/brand-resources/\n",
      "\t\thttps://www.google.com/policies/privacy/\n",
      "\t\thttps://www.youtube.com/t/terms\n",
      "\t\thttps://support.google.com/youtube/#topic=9257498\n",
      "\thttps://www.youtube.com/t/contact_us/\n",
      "\t\thttps://www.youtube.com/\n",
      "\t\thttps://www.youtube.com/yt/about\n",
      "\t\thttps://www.youtube.com/t/community_guidelines\n",
      "\t\thttps://www.youtube.com/yt/jobs\n",
      "\t\thttps://support.google.com/youtube/\n",
      "\t\thttps://support.google.com/forum/p/youtube\n",
      "\t\thttps://support.google.com/youtube/bin/static.py?page=known_issues.cs\n",
      "\t\thttps://www.youtube.com/t/press\n",
      "\t\thttps://www.youtube.com/yt/creators/en-gb/get-started.html\n",
      "\t\thttps://www.youtube.com/t/advertising_overview\n",
      "\t\thttps://support.google.com/youtube/bin/topic.py?topic=13044\n",
      "\t\thttps://support.google.com/youtube/answer/77402\n",
      "\t\thttps://support.google.com/youtube/answer/2807622\n",
      "\t\thttps://www.youtube.com/t/contentid\n",
      "\t\thttps://www.youtube.com/t/terms\n",
      "\t\thttps://www.youtube.com/yt/dev\n",
      "\t\thttp://www.google.com/submit_content.html\n",
      "\thttps://www.youtube.com/creators/\n",
      "\t\thttps://www.youtube.com/intl/en_ca/creators/\n",
      "\t\thttps://www.youtube.com/creators/#content\n",
      "\t\thttps://www.youtube.com/intl/en_ca/creators/welcome-creators/\n",
      "\t\thttps://www.youtube.com/intl/en_ca/creators/how-things-work/getting-started/\n",
      "\t\thttps://www.youtube.com/intl/en_ca/creators/how-things-work/building-community/\n",
      "\t\thttps://www.youtube.com/intl/en_ca/creators/how-things-work/video-monetization/\n",
      "\t\thttps://www.youtube.com/intl/en_ca/creators/how-things-work/content-creation-strategy/\n",
      "\t\thttps://www.youtube.com/intl/en_ca/creators/how-things-work/policies-guidelines/\n",
      "\t\thttps://www.youtube.com/intl/en_ca/creators/how-things-work/get-involved/\n",
      "\t\thttps://www.youtube.com/intl/en_ca/creators/top-questions/\n",
      "\t\thttps://blog.youtube/madeonyoutube\n",
      "\t\thttps://support.google.com/youtube/thread/175575648\n",
      "\t\thttps://www.youtube.com/intl/en_ca/creators/how-things-work/getting-started/\n",
      "\t\thttps://www.youtube.com/intl/en_ca/creators/how-things-work/building-community/\n",
      "\t\thttps://www.youtube.com/intl/en_ca/creators/how-things-work/video-monetization/\n",
      "\t\thttps://www.youtube.com/intl/en_ca/creators/how-things-work/content-creation-strategy/\n",
      "\t\thttps://www.youtube.com/intl/en_ca/creators/how-things-work/policies-guidelines/\n",
      "\t\thttps://www.youtube.com/intl/en_ca/creators/how-things-work/get-involved/\n",
      "\t\thttps://support.google.com/youtube/answer/10343433\n",
      "\t\thttps://support.google.com/youtube/answer/72431\n",
      "\t\thttps://support.google.com/youtube/answer/57792\n",
      "\t\thttps://support.google.com/youtube/answer/6140493\n",
      "\t\thttps://support.google.com/youtube/answer/6388789\n",
      "\t\thttps://support.google.com/youtube/answer/2972003\n",
      "\t\thttps://support.google.com/youtube/answer/2657964\n",
      "\t\thttps://support.google.com/youtube/answer/141808\n",
      "\t\thttps://support.google.com/youtube/answer/141805\n",
      "\t\thttps://support.google.com/youtube/answer/10343433\n",
      "\t\thttps://support.google.com/youtube/answer/72431\n",
      "\t\thttps://support.google.com/youtube/answer/57792\n",
      "\t\thttps://support.google.com/youtube/answer/6140493\n",
      "\t\thttps://support.google.com/youtube/answer/6388789\n",
      "\t\thttps://support.google.com/youtube/answer/2972003\n",
      "\t\thttps://support.google.com/youtube/answer/2657964\n",
      "\t\thttps://support.google.com/youtube/answer/141808\n",
      "\t\thttps://support.google.com/youtube/answer/141805\n",
      "\t\thttps://www.youtube.com/intl/en_ca/creators/top-questions/\n",
      "\t\thttps://www.youtube.com/channel/UCkRfArvrzheW2E7b6SVT7vQ\n",
      "\t\thttps://support.google.com/youtube\n",
      "\t\thttps://support.google.com/youtube/community\n",
      "\t\thttps://twitter.com/YouTubeCreators\n",
      "\t\thttps://twitter.com/TeamYouTube\n",
      "\t\thttps://support.google.com/youtube/answer/7123737\n",
      "\thttps://www.youtube.com/ads/\n",
      "\t\thttps://www.youtube.com/intl/ALL_ca/ads/\n",
      "\t\thttps://www.youtube.com/ads/#content\n",
      "\t\thttps://www.youtube.com/intl/ALL_ca/ads/\n",
      "\t\thttps://www.youtube.com/intl/ALL_ca/ads/how-it-works/\n",
      "\t\thttps://www.youtube.com/intl/ALL_ca/ads/youtube-for-small-business/\n",
      "\t\thttps://www.youtube.com/intl/ALL_ca/ads/how-it-works/create-a-video-ad/\n",
      "\t\thttps://www.youtube.com/intl/ALL_ca/ads/how-it-works/set-up-a-campaign/\n",
      "\t\thttps://www.youtube.com/intl/ALL_ca/ads/how-it-works/set-up-a-campaign/audience/\n",
      "\t\thttps://www.youtube.com/intl/ALL_ca/ads/how-it-works/set-up-a-campaign/budget/\n",
      "\t\thttps://www.youtube.com/intl/ALL_ca/ads/how-it-works/measure-your-results/\n",
      "\t\thttps://www.youtube.com/intl/ALL_ca/ads/news-and-inspiration/\n",
      "\t\thttps://www.youtube.com/intl/ALL_ca/ads/resources/\n",
      "\t\thttps://www.youtube.com/intl/ALL_ca/ads/resources/creative-resources/\n",
      "\t\thttps://www.youtube.com/intl/ALL_ca/ads/resources/creator-promotions/\n",
      "\t\thttps://www.youtube.com/intl/ALL_ca/ads/resources/measurement-tools/\n",
      "\t\thttps://www.youtube.com/intl/ALL_ca/ads/resources/best-practices/\n",
      "\t\thttps://www.youtube.com/intl/ALL_ca/ads/resources/success-stories/\n",
      "\t\thttps://www.youtube.com/intl/ALL_ca/ads/faqs/\n",
      "\t\thttps://www.youtube.com/intl/ALL_catel:1-877-763-9810\n",
      "\t\thttps://studio.youtube.com/channel/c/content/promotions\n",
      "\t\thttps://studio.youtube.com/channel/c/content/promotions\n",
      "\t\thttps://ads.google.com/signup\n",
      "\t\thttps://www.youtube.com/intl/ALL_ca/ads/how-it-works/create-a-video-ad/\n",
      "\t\thttps://studio.youtube.com/channel/c/content/promotions\n",
      "\t\thttps://twitter.com/YouTube\n",
      "\t\thttps://www.instagram.com/youtube/\n",
      "\t\thttps://www.facebook.com/youtube/?ref=br_r\n",
      "\t\thttps://www.youtube.com/about/\n",
      "\t\thttps://blog.youtube/\n",
      "\t\thttps://www.youtube.com/howyoutubeworks/\n",
      "\t\thttps://www.youtube.com/jobs/\n",
      "\t\thttps://blog.youtube/press/\n",
      "\t\thttps://www.youtube.com/trends/\n",
      "\t\thttps://tv.youtube.com/learn/nflsundayticket\n",
      "\t\thttps://www.youtube.com/kids/\n",
      "\t\thttps://www.youtube.com/musicpremium\n",
      "\t\thttps://www.youtube.com/channel/UCqVDpXKLmKeBU_yyt_QkItQ\n",
      "\t\thttps://www.youtube.com/creators/podcasts/\n",
      "\t\thttps://www.youtube.com/premium/\n",
      "\t\thttps://www.youtube.com/ads/how-it-works/set-up-a-campaign/youtube-select/\n",
      "\t\thttps://studio.youtube.com/\n",
      "\t\thttps://tv.youtube.com/\n",
      "\t\thttps://developers.google.com/youtube\n",
      "\t\thttps://www.youtube.com/ads/\n",
      "\t\thttps://www.youtube.com/yt/family/\n",
      "\t\thttps://www.youtube.com/creatorresearch/\n",
      "\t\thttps://servicesdirectory.withyoutube.com/\n",
      "\t\thttps://artists.youtube.com/\n",
      "\t\thttps://www.youtube.com/creators/\n",
      "\t\thttps://www.youtube.com/nextup/\n",
      "\t\thttps://vr.youtube.com/\n",
      "\t\thttps://www.youtube.com/creators-for-change/\n",
      "\t\thttps://www.youtube.com/csai-match/\n",
      "\t\thttps://socialimpact.youtube.com/\n",
      "\t\thttps://www.youtube.com/about/\n",
      "\t\thttps://blog.youtube/\n",
      "\t\thttps://www.youtube.com/howyoutubeworks/\n",
      "\t\thttps://www.youtube.com/jobs/\n",
      "\t\thttps://blog.youtube/press/\n",
      "\t\thttps://www.youtube.com/trends/\n",
      "\t\thttps://tv.youtube.com/learn/nflsundayticket\n",
      "\t\thttps://www.youtube.com/kids/\n",
      "\t\thttps://www.youtube.com/musicpremium\n",
      "\t\thttps://www.youtube.com/channel/UCqVDpXKLmKeBU_yyt_QkItQ\n",
      "\t\thttps://www.youtube.com/creators/podcasts/\n",
      "\t\thttps://www.youtube.com/premium/\n",
      "\t\thttps://www.youtube.com/ads/how-it-works/set-up-a-campaign/youtube-select/\n",
      "\t\thttps://studio.youtube.com/\n",
      "\t\thttps://tv.youtube.com/\n",
      "\t\thttps://developers.google.com/youtube\n",
      "\t\thttps://www.youtube.com/ads/\n",
      "\t\thttps://www.youtube.com/yt/family/\n",
      "\t\thttps://www.youtube.com/creatorresearch/\n",
      "\t\thttps://servicesdirectory.withyoutube.com/\n",
      "\t\thttps://artists.youtube.com/\n",
      "\t\thttps://www.youtube.com/creators/\n",
      "\t\thttps://www.youtube.com/nextup/\n",
      "\t\thttps://vr.youtube.com/\n",
      "\t\thttps://www.youtube.com/creators-for-change/\n",
      "\t\thttps://www.youtube.com/csai-match/\n",
      "\t\thttps://socialimpact.youtube.com/\n",
      "\t\thttps://www.youtube.com\n",
      "\t\thttps://www.youtube.com/about/policies/\n",
      "\t\thttps://www.youtube.com/about/copyright/\n",
      "\t\thttps://www.youtube.com/about/brand-resources/\n",
      "\t\thttps://www.google.com/policies/privacy/\n",
      "\t\thttps://www.youtube.com/t/terms\n",
      "\t\thttps://support.google.com/youtube/#topic=9257498\n",
      "\t\thttp://www.google.com/ads/coupons/terms.html\n",
      "\thttps://developers.google.com/youtube\n",
      "\t\thttps://developers.google.com/youtube\n",
      "\t\thttps://developers.google.com/youtube\n",
      "\t\thttps://developers.google.com/youtube\n",
      "\t\thttps://developers.google.com/youtube/documentation\n",
      "\t\thttps://developers.google.com/youtube/code_samples\n",
      "\t\thttps://developers.google.com/youtube/terms/api-services-terms-of-service\n",
      "\t\thttps://developers.google.com/youtube\n",
      "\t\thttps://developers.google.com/youtube\n",
      "\t\thttps://developers.google.com/youtube\n",
      "\t\thttps://developers.google.com/youtube/documentation\n",
      "\t\thttps://developers.google.com/youtube/code_samples\n",
      "\t\thttps://developers.google.com/youtube/terms/api-services-terms-of-service\n",
      "\t\thttps://developers.google.com/\n",
      "\t\thttps://developers.google.com/products\n",
      "\t\thttps://developers.google.com/youtube\n",
      "\t\thttps://developers.google.com/youtube/iframe_api_reference\n",
      "\t\thttps://developers.google.com/youtube/iframe_api_reference\n",
      "\t\thttps://developers.google.com/youtube/iframe_api_reference\n",
      "\t\thttps://developers.google.com/youtube/android/player\n",
      "\t\thttps://developers.google.com/youtube/v3/guides/ios_youtube_helper\n",
      "\t\thttps://developers.google.com/youtube/player_parameters\n",
      "\t\thttps://developers.google.com/youtube/v3/getting-started\n",
      "\t\thttps://developers.google.com/youtube/v3/getting-started\n",
      "\t\thttps://developers.google.com/youtube/v3/getting-started\n",
      "\t\thttps://developers.google.com/youtube/v3/docs\n",
      "\t\thttps://developers.google.com/youtube/v3/code_samples\n",
      "\t\thttps://developers.google.com/youtube/reporting\n",
      "\t\thttps://developers.google.com/youtube/reporting\n",
      "\t\thttps://developers.google.com/youtube/reporting\n",
      "\t\thttps://developers.google.com/youtube/reporting/v1/code_samples\n",
      "\t\thttps://developers.google.com/youtube/youtube_subscribe_button\n",
      "\t\thttps://developers.google.com/youtube/youtube_subscribe_button\n",
      "\t\thttps://developers.google.com/youtube/youtube_subscribe_button\n",
      "\t\thttps://developers.google.com/youtube/v3/live/getting-started\n",
      "\t\thttps://developers.google.com/youtube/v3/live/getting-started\n",
      "\t\thttps://developers.google.com/youtube/v3/live/getting-started\n",
      "\t\thttps://blog.youtube\n",
      "\t\thttps://github.com/youtube/api-samples\n",
      "\t\thttps://issuetracker.google.com/issues/new?component=186600&template=874803\n",
      "\t\thttp://stackoverflow.com/questions/ask?tags=youtube-api\n",
      "\t\thttps://research.youtube/\n",
      "\t\thttps://developers.google.com/apis-explorer/#p/\n",
      "\t\thttps://developers.google.com/youtube/youtube_player_demo\n",
      "\t\thttps://developers.google.com/youtube/youtube_subscribe_button\n",
      "\t\thttps://issuetracker.google.com/issues/new?component=186600&template=874803\n",
      "\t\thttps://issuetracker.google.com/issues/new?component=186600&template=874803\n",
      "\t\thttps://issuetracker.google.com/issues?q=componentid:186600\n",
      "\t\thttps://developers.google.com/youtube/terms/api-services-terms-of-service\n",
      "\t\thttps://developers.google.com/youtube/terms/developer-policies\n",
      "\t\thttps://developers.google.com/youtube/terms/required-minimum-functionality\n",
      "\t\thttps://developers.google.com/youtube/terms/branding-guidelines\n",
      "\t\thttps://developers.google.com/\n",
      "\t\thttps://developer.android.com\n",
      "\t\thttps://developer.chrome.com/home\n",
      "\t\thttps://firebase.google.com\n",
      "\t\thttps://cloud.google.com\n",
      "\t\thttps://ai.google.dev/\n",
      "\t\thttps://developers.google.com/products\n",
      "\t\thttps://developers.google.com/terms/site-terms\n",
      "\t\thttps://policies.google.com/privacy\n",
      "\t\thttps://developers.google.com/youtube\n",
      "\t\thttps://developers.google.com/newsletter/subscribe\n",
      "\thttps://www.youtube.com/t/terms\n",
      "\t\thttps://www.youtube.com/\n",
      "\t\thttps://www.youtube.com/t/terms_paidservice\n",
      "\t\thttps://www.youtube.com/t/usage_paycontent\n",
      "\t\thttps://www.youtube.com/t/policy_cns\n",
      "\t\thttps://www.youtube.com/t/copyright_notice\n",
      "\t\thttps://www.youtube.com/t/community_guidelines\n",
      "\t\thttps://www.youtube.com/t/terms#20c5cf0fa6\n",
      "\t\thttps://www.youtube.com/t/terms#eb887a967c\n",
      "\t\thttps://www.youtube.com/t/terms#c3e2907ca8\n",
      "\t\thttps://www.youtube.com/t/terms#27dc3bf5d9\n",
      "\t\thttps://www.youtube.com/t/terms#8d13a409a3\n",
      "\t\thttps://www.youtube.com/t/terms#8c38269fae\n",
      "\t\thttps://www.youtube.com/t/terms#56eee99974\n",
      "\t\thttps://www.youtube.com/t/terms#42d1acaf7a\n",
      "\t\thttps://support.google.com/youtube/\n",
      "\t\thttps://support.google.com/youtubekids/\n",
      "\t\thttps://support.google.com/youtube/topic/9223152\n",
      "\t\thttps://support.google.com/youtube/topic/9223117\n",
      "\t\thttps://support.google.com/youtube/topic/9257096?ref_topic=9257500\n",
      "\t\thttps://support.google.com/youtube/topic/9257096?ref_topic=9257500\n",
      "\t\thttps://support.google.com/googlehome/answer/7029380\n",
      "\t\thttps://www.youtube.com/t/community_guidelines\n",
      "\t\thttps://www.youtube.com/t/policies\n",
      "\t\thttps://support.google.com/youtube/topic/30084?ref_topic=2972865\n",
      "\t\thttps://support.google.com/youtube/answer/2802272\n",
      "\t\thttps://support.google.com/youtube/answer/2802272\n",
      "\t\thttps://families.google.com/familylink/\n",
      "\t\thttps://www.youtube.com/t/community_guidelines\n",
      "\t\thttps://support.google.com/youtube/answer/2802027\n",
      "\t\thttps://support.google.com/youtube/answer/69961\n",
      "\t\thttps://accounts.google.com/signup/v2/webcreateaccount?flowName=GlifWebSignIn&flowEntry=SignUp\n",
      "\t\thttps://support.google.com/youtube/answer/1646861\n",
      "\t\thttps://support.google.com/accounts/answer/46526\n",
      "\t\thttps://www.youtube.com/t/privacy\n",
      "\t\thttps://kids.youtube.com/t/privacynotice\n",
      "\t\thttps://www.youtube.com/t/terms_dataprocessing\n",
      "\t\thttps://support.google.com/youtube/?p=data_applicability\n",
      "\t\thttps://support.google.com/youtube/answer/1620498\n",
      "\t\thttps://support.google.com/youtube/topic/9257894?ref_topic=2972865\n",
      "\t\thttps://takeout.google.com/settings/takeout?pli=1\n",
      "\t\thttps://support.google.com/youtube/answer/55770\n",
      "\t\thttps://support.google.com/youtube/answer/56100\n",
      "\t\thttps://support.google.com/youtube/answer/6395024\n",
      "\t\thttps://www.youtube.com/t/community_guidelines\n",
      "\t\thttps://support.google.com/youtube/answer/2802032\n",
      "\t\thttps://studio.youtube.com/\n",
      "\t\thttps://www.youtube.com/t/copyright_center\n",
      "\t\thttps://support.google.com/youtube/answer/2807622\n",
      "\t\thttps://www.youtube.com/t/copyright_center\n",
      "\t\thttps://myaccount.google.com/delete-services-or-account\n",
      "\t\thttps://support.google.com/accounts/contact/suspended?p=youtube\n",
      "\t\thttps://www.youtube.com/t/terms?archive=20210601\n",
      "\thttps://www.youtube.com/t/privacy\n",
      "\t\thttps://www.youtube.com/\n",
      "\t\thttps://www.google.ca/intl/en-GB/about/products\n",
      "\t\thttps://accounts.google.com/ServiceLogin?passive=1209600&continue=https://policies.google.com/privacy?hl%3Den-GB&followup=https://policies.google.com/privacy?hl%3Den-GB&hl=en-GB&ec=GAZAoQQ\n",
      "\t\thttps://www.youtube.com/t/privacy?hl=en-GB\n",
      "\t\thttps://www.youtube.com/t/privacy?hl=en-GB\n",
      "\t\thttps://www.youtube.com/t/terms?hl=en-GB\n",
      "\t\thttps://www.youtube.com/t/technologies?hl=en-GB\n",
      "\t\thttps://www.youtube.com/t/faq?hl=en-GB\n",
      "\t\thttps://www.google.com/?hl=en_GB\n",
      "\t\thttps://www.youtube.com/t/privacy?hl=en-GB\n",
      "\t\thttps://www.youtube.com/t/privacy?hl=en-GB\n",
      "\t\thttps://www.youtube.com/t/privacy/frameworks?hl=en-GB\n",
      "\t\thttps://www.youtube.com/t/privacy/key-terms?hl=en-GB\n",
      "\t\thttps://www.youtube.com/t/privacy/google-partners?hl=en-GB\n",
      "\t\thttps://www.youtube.com/t/privacy/archive?hl=en-GB\n",
      "\t\thttps://www.youtube.com/t/terms?hl=en-GB\n",
      "\t\thttps://www.youtube.com/t/technologies?hl=en-GB\n",
      "\t\thttps://www.youtube.com/t/faq?hl=en-GB\n",
      "\t\thttps://www.youtube.com/\n",
      "\t\thttps://www.google.com/?hl=en_GB\n",
      "\t\thttps://www.youtube.com/t/privacy?hl=en-GB\n",
      "\t\thttps://www.youtube.com/t/privacy?hl=en-GB\n",
      "\t\thttps://www.youtube.com/t/privacy?hl=en-GB\n",
      "\t\thttps://www.youtube.com/t/terms?hl=en-GB\n",
      "\t\thttps://www.youtube.com/t/technologies?hl=en-GB\n",
      "\t\thttps://www.youtube.com/t/faq?hl=en-GB\n",
      "\t\thttps://myaccount.google.com/?hl=en_GB\n",
      "\t\thttps://www.youtube.com/t/privacy?hl=en-GB#intro\n",
      "\t\thttps://www.youtube.com/t/privacy?hl=en-GB#infocollect\n",
      "\t\thttps://www.youtube.com/t/privacy?hl=en-GB#whycollect\n",
      "\t\thttps://www.youtube.com/t/privacy?hl=en-GB#infochoices\n",
      "\t\thttps://www.youtube.com/t/privacy?hl=en-GB#infosharing\n",
      "\t\thttps://www.youtube.com/t/privacy?hl=en-GB#infosecurity\n",
      "\t\thttps://www.youtube.com/t/privacy?hl=en-GB#infodelete\n",
      "\t\thttps://www.youtube.com/t/privacy?hl=en-GB#inforetaining\n",
      "\t\thttps://www.youtube.com/t/privacy?hl=en-GB#enforcement\n",
      "\t\thttps://www.youtube.com/t/privacy?hl=en-GB#about\n",
      "\t\thttps://www.youtube.com/t/privacy?hl=en-GB#products\n",
      "\t\thttps://www.youtube.com/t/privacy/frameworks?hl=en-GB\n",
      "\t\thttps://www.youtube.com/t/privacy/key-terms?hl=en-GB\n",
      "\t\thttps://www.youtube.com/t/privacy/google-partners?hl=en-GB\n",
      "\t\thttps://www.youtube.com/t/privacy/archive?hl=en-GB\n",
      "\t\thttps://myaccount.google.com/privacycheckup?utm_source=pp&utm_medium=Promo-in-product&utm_campaign=pp_intro&hl=en_GB\n",
      "\t\thttps://www.youtube.com/t/privacy/archive?hl=en-GB\n",
      "\t\thttps://www.gstatic.com/policies/privacy/pdf/20240916/pe84lsmf/google_privacy_policy_en-GB.pdf\n",
      "\t\thttps://www.youtube.com/t/privacy?hl=en-GB#intro\n",
      "\t\thttps://www.youtube.com/t/privacy?hl=en-GB#infocollect\n",
      "\t\thttps://www.youtube.com/t/privacy?hl=en-GB#whycollect\n",
      "\t\thttps://www.youtube.com/t/privacy?hl=en-GB#infochoices\n",
      "\t\thttps://www.youtube.com/t/privacy?hl=en-GB#infosharing\n",
      "\t\thttps://www.youtube.com/t/privacy?hl=en-GB#infosecurity\n",
      "\t\thttps://www.youtube.com/t/privacy?hl=en-GB#infodelete\n",
      "\t\thttps://www.youtube.com/t/privacy?hl=en-GB#inforetaining\n",
      "\t\thttps://www.youtube.com/t/privacy?hl=en-GB#enforcement\n",
      "\t\thttps://www.youtube.com/t/privacy?hl=en-GB#about\n",
      "\t\thttps://www.youtube.com/t/privacy?hl=en-GB#products\n",
      "\t\thttps://support.google.com/chrome/answer/9845881?hl=en_GB\n",
      "\t\thttps://www.youtube.com/t/privacy/key-terms?hl=en-GB#key-terms\n",
      "\t\thttps://support.google.com/policies?p=privpol_privts&hl=en_GB\n",
      "\t\thttps://www.youtube.com/t/privacy?hl=en-GB#footnote-useful-ads\n",
      "\t\thttps://www.youtube.com/t/privacy?hl=en-GB#footnote-people-online\n",
      "\t\thttps://www.youtube.com/t/privacy?hl=en-GB#footnote-unique-id\n",
      "\t\thttps://www.youtube.com/t/privacy?hl=en-GB#footnote-device\n",
      "\t\thttps://www.youtube.com/t/privacy?hl=en-GB#footnote-personal-info\n",
      "\t\thttps://www.youtube.com/t/privacy?hl=en-GB#footnote-personal-info\n",
      "\t\thttps://www.youtube.com/t/privacy?hl=en-GB#footnote-phone-number\n",
      "\t\thttps://www.youtube.com/t/privacy?hl=en-GB#footnote-payment-info\n",
      "\t\thttps://www.youtube.com/t/privacy?hl=en-GB#footnote-devices\n",
      "\t\thttps://www.youtube.com/t/privacy?hl=en-GB#footnote-unique-id\n",
      "\t\thttps://www.youtube.com/t/privacy?hl=en-GB#footnote-ip\n",
      "\t\thttps://www.youtube.com/t/privacy?hl=en-GB#footnote-android-device\n",
      "\t\thttps://support.google.com/android/answer/9021432?hl=en_GB\n",
      "\t\thttps://support.google.com/accounts/answer/6078260?hl=en_GB\n",
      "\t\thttps://www.youtube.com/t/privacy?hl=en-GB#footnote-content-views\n",
      "\t\thttps://www.youtube.com/t/privacy?hl=en-GB#footnote-voice-audio-information\n",
      "\t\thttps://www.youtube.com/t/privacy?hl=en-GB#footnote-activity-on-third-party\n",
      "\t\thttps://www.youtube.com/t/privacy?hl=en-GB#footnote-chrome-sync\n",
      "\t\thttps://www.youtube.com/t/privacy?hl=en-GB#footnote-calls-messages\n",
      "\t\thttps://myaccount.google.com/?utm_source=pp&hl=en_GB\n",
      "\t\thttps://www.youtube.com/t/privacy?hl=en-GB#footnote-sensor-data\n",
      "\t\thttps://www.youtube.com/t/privacy?hl=en-GB#footnote-ip\n",
      "\t\thttps://www.youtube.com/t/privacy?hl=en-GB#footnote-activity-on-services\n",
      "\t\thttps://www.youtube.com/t/privacy?hl=en-GB#footnote-places-you-label\n",
      "\t\thttps://www.youtube.com/t/privacy?hl=en-GB#footnote-near-device\n",
      "\t\thttps://support.google.com/accounts?p=privpol_location&hl=en_GB\n",
      "\t\thttps://support.google.com/accounts?p=privpol_lochistory&hl=en_GB\n",
      "\t\thttps://www.youtube.com/t/technologies/location-data?hl=en-GB\n",
      "\t\thttps://www.youtube.com/t/privacy?hl=en-GB#footnote-sources\n",
      "\t\thttps://www.youtube.com/t/privacy?hl=en-GB#footnote-against-abuse\n",
      "\t\thttps://www.youtube.com/t/privacy?hl=en-GB#footnote-ad-services\n",
      "\t\thttps://www.youtube.com/t/privacy?hl=en-GB#footnote-cookies\n",
      "\t\thttps://www.youtube.com/t/privacy?hl=en-GB#footnote-pixel\n",
      "\t\thttps://www.youtube.com/t/privacy?hl=en-GB#footnote-browser-storage\n",
      "\t\thttps://www.youtube.com/t/privacy?hl=en-GB#footnote-application-data-cache\n",
      "\t\thttps://www.youtube.com/t/privacy?hl=en-GB#footnote-server-logs\n",
      "\t\thttps://www.youtube.com/t/privacy?hl=en-GB#footnote-deliver-services\n",
      "\t\thttps://www.youtube.com/t/privacy?hl=en-GB#footnote-ensure-working\n",
      "\t\thttps://www.youtube.com/t/privacy?hl=en-GB#footnote-make-improvements\n",
      "\t\thttps://www.youtube.com/t/privacy?hl=en-GB#footnote-customized-search\n",
      "\t\thttps://myaccount.google.com/security-checkup?utm_source=pp&hl=en_GB\n",
      "\t\thttps://www.youtube.com/t/privacy?hl=en-GB#footnote-personalized-ads\n",
      "\t\thttps://myadcenter.google.com?hl=en_GB\n",
      "\t\thttps://www.youtube.com/t/privacy?hl=en-GB#footnote-sensitive-categories\n",
      "\t\thttps://myadcenter.google.com?hl=en_GB\n",
      "\t\thttps://www.youtube.com/t/privacy?hl=en-GB#footnote-link-info\n",
      "\t\thttps://www.youtube.com/t/privacy?hl=en-GB#footnote-safety-reliability\n",
      "\t\thttps://www.youtube.com/t/privacy?hl=en-GB#footnote-the-public\n",
      "\t\thttps://www.youtube.com/t/privacy?hl=en-GB#footnote-detect-abuse\n",
      "\t\thttps://www.youtube.com/t/privacy?hl=en-GB#footnote-algorithm\n",
      "\t\thttps://www.youtube.com/t/privacy?hl=en-GB#footnote-combine-info\n",
      "\t\thttps://www.youtube.com/t/privacy?hl=en-GB#footnote-other-sites\n",
      "\t\thttps://myaccount.google.com/privacycheckup?utm_source=pp&utm_medium=Promo-in-product&utm_campaign=pp_body&hl=en_GB\n",
      "\t\thttps://www.youtube.com/t/technologies/product-privacy?hl=en-GB\n",
      "\t\thttps://myaccount.google.com/privacycheckup?utm_source=pp&utm_medium=Promo-in-product&utm_campaign=pp_body&hl=en_GB\n",
      "\t\thttps://myaccount.google.com/?hl=en_GB\n",
      "\t\thttps://support.google.com/websearch/answer/54068?hl=en_GB#zippy=%2Cinfo-about-your-browsing-and-other-activity-on-sites-apps-and-devices-that-use-google-services\n",
      "\t\thttps://myaccount.google.com/activitycontrols?utm_source=pp&hl=en_GB\n",
      "\t\thttps://www.youtube.com/t/technologies/partner-sites?hl=en-GB\n",
      "\t\thttps://myadcenter.google.com?hl=en_GB\n",
      "\t\thttps://myaccount.google.com/profile?utm_source=pp&hl=en_GB\n",
      "\t\thttps://myaccount.google.com/shared-endorsements?utm_source=pp&hl=en_GB\n",
      "\t\thttps://www.youtube.com/t/technologies/partner-sites?hl=en-GB&hl=en_GB\n",
      "\t\thttps://myactivity.google.com/myactivity?utm_source=pp&hl=en_GB\n",
      "\t\thttps://myaccount.google.com/dashboard?utm_source=pp&hl=en_GB\n",
      "\t\thttps://myaccount.google.com/personal-info?utm_source=pp&hl=en_GB\n",
      "\t\thttps://www.google.com/history/optout?utm_source=pp&hl=en_GB\n",
      "\t\thttps://www.youtube.com/feed/history/search_history?utm_source=pp&hl=en_GB\n",
      "\t\thttps://www.youtube.com/feed/history?utm_source=pp&hl=en_GB\n",
      "\t\thttps://myadcenter.google.com?hl=en_GB\n",
      "\t\thttps://takeout.google.com/?utm_source=pp&hl=en_GB\n",
      "\t\thttps://www.youtube.com/t/privacy?hl=en-GB#footnote-delete-specific\n",
      "\t\thttps://myactivity.google.com/?utm_source=pp&hl=en_GB\n",
      "\t\thttps://myaccount.google.com/deleteservices?utm_source=pp&hl=en_GB\n",
      "\t\thttps://myaccount.google.com/deleteaccount?utm_source=pp&hl=en_GB\n",
      "\t\thttps://myaccount.google.com/delete-services-or-account?utm_source=pp&hl=en_GB\n",
      "\t\thttps://myaccount.google.com/inactive?utm_source=pp&hl=en_GB\n",
      "\t\thttps://support.google.com/legal/answer/3110420?visit_id=637939486089565735-343938859&hl=en_GB\n",
      "\t\thttps://www.youtube.com/t/privacy?hl=en-GB#footnote-cookies\n",
      "\t\thttps://www.youtube.com/t/privacy?hl=en-GB#footnote-rely-on-cookies\n",
      "\t\thttps://support.google.com/websearch?p=privpol_locserp&hl=en_GB\n",
      "\t\thttps://support.google.com/accounts?p=privpol_endorse&hl=en_GB\n",
      "\t\thttps://support.google.com/googlehome?p=privpol_homedata&hl=en_GB\n",
      "\t\thttps://myaccount.google.com/permissions?hl=en_GB\n",
      "\t\thttps://www.youtube.com/t/privacy?hl=en-GB#footnote-sensitive-info\n",
      "\t\thttps://support.google.com/a?p=privpol_admin&hl=en_GB\n",
      "\t\thttps://www.youtube.com/t/privacy?hl=en-GB#footnote-affiliates\n",
      "\t\thttps://www.youtube.com/t/privacy?hl=en-GB#footnote-legal\n",
      "\t\thttps://transparencyreport.google.com/user-data/overview?hl=en_GB\n",
      "\t\thttps://www.youtube.com/t/privacy?hl=en-GB#footnote-our-users\n",
      "\t\thttps://www.youtube.com/t/privacy?hl=en-GB#footnote-info\n",
      "\t\thttps://www.youtube.com/t/privacy?hl=en-GB#footnote-trends\n",
      "\t\thttps://www.youtube.com/t/privacy?hl=en-GB#footnote-specific-partners\n",
      "\t\thttps://safebrowsing.google.com/?utm_source=pp&hl=en_GB\n",
      "\t\thttps://www.google.com/landing/2step/?utm_source=pp&hl=en_GB\n",
      "\t\thttps://takeout.google.com/?utm_source=pp&hl=en_GB\n",
      "\t\thttps://www.youtube.com/t/privacy?hl=en-GB#footnote-delete-specific\n",
      "\t\thttps://myactivity.google.com/?utm_source=pp&hl=en_GB\n",
      "\t\thttps://myaccount.google.com/deleteservices?utm_source=pp&hl=en_GB\n",
      "\t\thttps://myaccount.google.com/deleteaccount?utm_source=pp&hl=en_GB\n",
      "\t\thttps://myaccount.google.com/delete-services-or-account?utm_source=pp&hl=en_GB\n",
      "\t\thttps://myaccount.google.com/personal-info?hl=en_GB\n",
      "\t\thttps://support.google.com/photos/answer/6128858?hl=en_GB\n",
      "\t\thttps://support.google.com/docs/answer/6023494?hl=en_GB\n",
      "\t\thttps://myactivity.google.com/myactivity?hl=en_GB\n",
      "\t\thttps://support.google.com/accounts/answer/465?authuser=0&hl=en_GB#auto-delete\n",
      "\t\thttps://www.youtube.com/t/technologies/ads?hl=en-GB\n",
      "\t\thttps://www.youtube.com/t/technologies/retention?hl=en-GB\n",
      "\t\thttps://www.youtube.com/t/privacy?hl=en-GB#footnote-servers\n",
      "\t\thttps://www.youtube.com/t/privacy/frameworks?hl=en-GB\n",
      "\t\thttps://www.youtube.com/t/privacy?hl=en-GB#footnote-affiliates\n",
      "\t\thttps://www.youtube.com/t/privacy/archive?hl=en-GB\n",
      "\t\thttps://payments.google.com/legaldocument?family=0.privacynotice&hl=en-GB\n",
      "\t\thttps://fiber.google.com/legal/privacy.html\n",
      "\t\thttps://support.google.com/gemini/answer/13594961?hl=en_GB#privacy_notice\n",
      "\t\thttps://fi.google.com/about/tos/#project-fi-privacy-notice\n",
      "\t\thttps://workspace.google.com/terms/education_privacy.html\n",
      "\t\thttps://ssl.gstatic.com/seekh/intl/en/privacy\n",
      "\t\thttps://kids.youtube.com/privacynotice\n",
      "\t\thttps://families.google.com/familylink/privacy/child-policy/\n",
      "\t\thttps://families.google.com/familylink/privacy/child-disclosure/?hl=en_GB\n",
      "\t\thttps://assistant.google.com/privacy-notice-childrens-features/?hl=en_GB\n",
      "\t\thttps://cloud.google.com/terms/cloud-privacy-notice?hl=en_GB\n",
      "\t\thttps://myaccount.google.com/?hl=en_GB\n",
      "\t\thttps://myaccount.google.com/privacycheckup?utm_source=pp&utm_medium=Promo-in-product&utm_campaign=pp_body&hl=en_GB\n",
      "\t\thttps://www.google.com/intl/en-GB/safetycenter/\n",
      "\t\thttps://www.google.com/policies/privacy/teens/?hl=en_GB\n",
      "\t\thttps://www.youtube.com/t/privacy?hl=en-GB\n",
      "\t\thttps://www.youtube.com/t/technologies?hl=en-GB\n",
      "\t\thttps://www.youtube.com/t/technologies/cookies?hl=en-GB\n",
      "\t\thttps://www.youtube.com/t/technologies/ads?hl=en-GB\n",
      "\t\thttps://www.youtube.com/t/technologies/partner-sites?hl=en-GB\n",
      "\t\thttps://privacy.google.com/businesses/affiliates?hl=en_GB\n",
      "\t\thttps://www.youtube.com/t/technologies/cookies?hl=en-GB\n",
      "\t\thttps://www.youtube.com/t/technologies/partner-sites?hl=en-GB\n",
      "\t\thttps://myaccount.google.com/?hl=en_GB\n",
      "\t\thttps://www.youtube.com/t/technologies/location-data?hl=en-GB\n",
      "\t\thttps://www.youtube.com/t/technologies/cookies?hl=en-GB\n",
      "\t\thttps://www.youtube.com/t/technologies/ads?hl=en-GB\n",
      "\t\thttps://myactivity.google.com/activitycontrols?hl=en_GB\n",
      "\t\thttps://www.youtube.com/t/technologies/partner-sites?hl=en-GB\n",
      "\t\thttps://support.google.com/accounts?p=privpol_whyad&hl=en_GB\n",
      "\t\thttps://support.google.com/accounts?p=privpol_whyad&hl=en_GB\n",
      "\t\thttps://support.google.com/android/answer/10546414?hl=en_GB\n",
      "\t\thttps://support.google.com/websearch?p=privpol_searchactivity&hl=en_GB\n",
      "\t\thttps://support.google.com/websearch?p=privpol_incognito&hl=en_GB\n",
      "\t\thttps://www.google.com/history/optout?utm_source=pp&hl=en_GB\n",
      "\t\thttps://support.google.com/photos?p=privpol_manage&hl=en_GB\n",
      "\t\thttps://protectingchildren.google/?hl=en_GB\n",
      "\t\thttps://support.google.com/accounts?p=privpol_androidloc&hl=en_GB\n",
      "\t\thttps://transparencyreport.google.com/user-data/overview?hl=en_GB\n",
      "\t\thttps://support.google.com/analytics?p=privpol_data&hl=en_GB\n",
      "\t\thttps://support.google.com/legal/answer/12158374?hl=en_GB\n",
      "\t\thttps://support.google.com/accounts?p=privpol_controlads&hl=en_GB\n",
      "\t\thttps://support.google.com/accounts?p=privpol_agereq&hl=en_GB\n",
      "\t\thttps://support.google.com/accounts?p=privpol_whyad&hl=en_GB\n",
      "\t\thttps://support.google.com/accounts?p=privpol_phone&hl=en_GB\n",
      "\t\thttps://myaccount.google.com/personal-info?hl=en_GB\n",
      "\t\thttps://www.youtube.com/t/technologies/cookies?hl=en-GB#types-of-cookies\n",
      "\t\thttps://support.google.com/mail?p=privpol_signinactivity&hl=en_GB\n",
      "\t\thttps://support.google.com/adwordspolicy?p=privpol_p13nad&hl=en_GB\n",
      "\t\thttps://www.youtube.com/t/technologies/location-data?hl=en-GB\n",
      "\t\thttps://www.google.com/about/datacenters/inside/locations?hl=en_GB\n",
      "\t\thttps://support.google.com/trends?p=privpol_about&hl=en_GB\n",
      "\t\thttps://support.google.com/blogger?p=privpol_blog&hl=en_GB\n",
      "\t\thttps://support.google.com/sites?p=privpol_delete&hl=en_GB\n",
      "\t\thttps://support.google.com/googleplay?p=privpol_review&hl=en_GB\n",
      "\t\thttps://www.youtube.com/t/privacy/google-partners?hl=en-GB\n",
      "\t\thttps://support.google.com/chrome?p=privpol_chrsync&hl=en_GB\n",
      "\t\thttps://contacts.google.com?hl=en_GB\n",
      "\t\thttps://support.google.com/legal/answer/3110420?visit_id=637939486089565735-343938859&hl=en_GB\n",
      "\t\thttps://support.google.com/websearch?p=privpol_privresults&hl=en_GB\n",
      "\t\thttps://support.google.com/accounts?p=autocontacts&hl=en_GB\n",
      "\t\thttps://support.google.com/googlehome?p=privpol_actions&hl=en_GB\n",
      "\t\thttps://support.google.com/websearch/answer/6030020?hl=en_GB#zippy=%2Chow-audio-recordings-are-saved\n",
      "\t\thttps://myaccount.google.com/?hl=en_GB\n",
      "\t\thttps://www.youtube.com/t/technologies/partner-sites?hl=en-GB\n",
      "\t\thttps://www.google.com/\n",
      "\t\thttps://about.google/\n",
      "\t\thttps://www.youtube.com/t/privacy?hl=en-GB\n",
      "\t\thttps://www.youtube.com/t/terms?hl=en-GB\n",
      "\t\thttps://transparency.google/?hl=en_GB\n",
      "\thttps://www.youtube.com/about/policies/\n",
      "\t\thttps://www.youtube.com/intl/ALL_ca/howyoutubeworks/\n",
      "\t\thttps://www.youtube.com/about/policies/#content\n",
      "\t\thttps://www.youtube.com/intl/ALL_ca/howyoutubeworks/our-commitments/managing-harmful-content/\n",
      "\t\thttps://www.youtube.com/intl/ALL_ca/howyoutubeworks/our-commitments/standing-up-to-hate/\n",
      "\t\thttps://www.youtube.com/intl/ALL_ca/howyoutubeworks/our-commitments/fighting-misinformation/\n",
      "\t\thttps://www.youtube.com/intl/ALL_ca/howyoutubeworks/our-commitments/curbing-extremist-content/\n",
      "\t\thttps://www.youtube.com/intl/ALL_ca/howyoutubeworks/our-commitments/supporting-political-integrity/\n",
      "\t\thttps://research.youtube\n",
      "\t\thttps://www.youtube.com/intl/ALL_ca/howyoutubeworks/our-commitments/preventing-bias/\n",
      "\t\thttps://www.youtube.com/intl/ALL_ca/howyoutubeworks/our-commitments/youth-principles/\n",
      "\t\thttps://www.youtube.com/intl/ALL_ca/howyoutubeworks/our-commitments/fostering-child-safety/\n",
      "\t\thttps://www.youtube.com/intl/ALL_ca/howyoutubeworks/our-commitments/protecting-user-data/\n",
      "\t\thttps://www.youtube.com/intl/ALL_ca/howyoutubeworks/our-commitments/safeguarding-copyright/\n",
      "\t\thttps://www.youtube.com/intl/ALL_ca/howyoutubeworks/our-commitments/sharing-revenue/\n",
      "\t\thttps://www.youtube.com/intl/ALL_ca/howyoutubeworks/our-commitments/promoting-digital-wellbeing/\n",
      "\t\thttps://www.youtube.com/intl/ALL_ca/howyoutubeworks/our-commitments/responsible-ai/\n",
      "\t\thttps://www.youtube.com/intl/ALL_ca/howyoutubeworks/product-features/search/\n",
      "\t\thttps://www.youtube.com/intl/ALL_ca/howyoutubeworks/product-features/recommendations/\n",
      "\t\thttps://www.youtube.com/intl/ALL_ca/howyoutubeworks/product-features/news-information/\n",
      "\t\thttps://www.youtube.com/intl/ALL_ca/howyoutubeworks/product-features/monetization/\n",
      "\t\thttps://www.youtube.com/intl/ALL_ca/howyoutubeworks/product-features/live/\n",
      "\t\thttps://www.youtube.com/intl/ALL_ca/howyoutubeworks/user-settings/privacy/\n",
      "\t\thttps://www.youtube.com/intl/ALL_ca/howyoutubeworks/user-settings/ad-settings/\n",
      "\t\thttps://www.youtube.com/intl/ALL_ca/howyoutubeworks/user-settings/parental-controls/\n",
      "\t\thttps://www.youtube.com/intl/ALL_ca/howyoutubeworks/user-settings/autoplay/\n",
      "\t\thttps://www.youtube.com/intl/ALL_ca/howyoutubeworks/policies/overview/\n",
      "\t\thttps://www.youtube.com/intl/ALL_ca/howyoutubeworks/policies/community-guidelines/\n",
      "\t\thttps://www.youtube.com/intl/ALL_ca/howyoutubeworks/policies/copyright/\n",
      "\t\thttps://www.youtube.com/intl/ALL_ca/howyoutubeworks/policies/monetization-policies/\n",
      "\t\thttps://www.youtube.com/intl/ALL_ca/howyoutubeworks/policies/legal-removals/\n",
      "\t\thttps://www.youtube.com/intl/ALL_ca/howyoutubeworks/progress-impact/responsibility/\n",
      "\t\thttps://www.youtube.com/intl/ALL_ca/howyoutubeworks/progress-impact/impact/\n",
      "\t\thttps://www.youtube.com/about/policies/#community-guidelines\n",
      "\t\thttps://www.youtube.com/about/policies/#developing-community-guidelines\n",
      "\t\thttps://www.youtube.com/about/policies/#enforcing-community-guidelines\n",
      "\t\thttps://www.youtube.com/about/policies/#detecting-violations\n",
      "\t\thttps://www.youtube.com/about/policies/#allowing-edsa-content\n",
      "\t\thttps://www.youtube.com/about/policies/#taking-action-on-violations\n",
      "\t\thttps://www.youtube.com/howyoutubeworks/policies/overview/\n",
      "\t\thttps://support.google.com/youtube/answer/3399767?hl=en&ref_topic=9282365\n",
      "\t\thttps://support.google.com/youtube/answer/2801947?hl=en&ref_topic=9282365\n",
      "\t\thttps://support.google.com/youtube/answer/9054257?hl=en&ref_topic=9282365\n",
      "\t\thttps://support.google.com/youtube/answer/2801973?hl=en&ref_topic=9282365\n",
      "\t\thttps://support.google.com/youtube/answer/9713446?hl=en&ref_topic=9282365\n",
      "\t\thttps://support.google.com/youtube/answer/2801981?hl=en&ref_topic=9282365\n",
      "\t\thttps://support.google.com/youtube/answer/2801999?hl=en&ref_topic=9282679\n",
      "\t\thttps://support.google.com/youtube/answer/9229980?hl=en&ref_topic=9282679\n",
      "\t\thttps://support.google.com/youtube/answer/2802002?hl=en&ref_topic=9282679\n",
      "\t\thttps://support.google.com/youtube/answer/2802245?hl=en&ref_topic=9282679\n",
      "\t\thttps://support.google.com/youtube/answer/10072685?hl=en&ref_topic=9282679\n",
      "\t\thttps://support.google.com/youtube/answer/2802268?hl=en&ref_topic=9282436\n",
      "\t\thttps://support.google.com/youtube/answer/2801964?hl=en&ref_topic=9282436\n",
      "\t\thttps://support.google.com/youtube/answer/2801939?hl=en&ref_topic=9282436\n",
      "\t\thttps://support.google.com/youtube/answer/9229472?hl=en&ref_topic=9282436\n",
      "\t\thttps://support.google.com/youtube/answer/2802008?hl=en&ref_topic=9282436\n",
      "\t\thttps://support.google.com/youtube/answer/7667605?hl=en\n",
      "\t\thttps://support.google.com/youtube/answer/9229611?hl=en\n",
      "\t\thttps://support.google.com/youtube/answer/10834785?hl=en\n",
      "\t\thttps://support.google.com/youtube/answer/10835034?hl=en\n",
      "\t\thttps://support.google.com/youtube/answer/13813322?hl=en\n",
      "\t\thttps://support.google.com/youtube/answer/6345162?hl=en&hl=en&ref_topic=9282435&sjid=277005303270439027-NA\n",
      "\t\thttps://www.youtube.com/howyoutubeworks/policies/monetization-policies/\n",
      "\t\thttps://support.google.com/youtube/answer/2802027\n",
      "\t\thttps://support.google.com/youtube/answer/7554338?hl=en-GB\n",
      "\t\thttps://support.google.com/youtube/answer/6345162?hl=en&hl=en&ref_topic=9282435&sjid=277005303270439027-NA\n",
      "\t\thttps://blog.youtube/inside-youtube/look-how-we-treat-educational-documentary-scientific-and-artistic-content-youtube/\n",
      "\t\thttps://support.google.com/youtube/answer/2802032?hl=en\n",
      "\t\thttps://support.google.com/youtube/answer/185111?hl=en\n",
      "\t\thttps://support.google.com/youtube/answer/174084\n",
      "\t\thttps://support.google.com/youtube/answer/2950063?hl=en&ref_topic=9387083\n",
      "\t\thttps://support.google.com/youtube/answer/2802167?hl=en&ref_topic=9387060\n",
      "\t\thttps://www.youtube.com/intl/ALL_ca/howyoutubeworks/progress-impact/responsibility/\n",
      "\t\thttps://www.youtube.com/intl/ALL_ca/howyoutubeworks/our-commitments/managing-harmful-content/\n",
      "\t\thttps://www.youtube.com/intl/ALL_ca/howyoutubeworks/policies/legal-removals/\n",
      "\t\thttps://twitter.com/YouTube\n",
      "\t\thttps://www.instagram.com/youtube/\n",
      "\t\thttps://www.facebook.com/youtube/?ref=br_r\n",
      "\t\thttps://www.youtube.com/about/\n",
      "\t\thttps://blog.youtube/\n",
      "\t\thttps://www.youtube.com/howyoutubeworks/\n",
      "\t\thttps://www.youtube.com/jobs/\n",
      "\t\thttps://blog.youtube/press/\n",
      "\t\thttps://www.youtube.com/trends/\n",
      "\t\thttps://tv.youtube.com/learn/nflsundayticket\n",
      "\t\thttps://www.youtube.com/kids/\n",
      "\t\thttps://www.youtube.com/musicpremium\n",
      "\t\thttps://www.youtube.com/channel/UCqVDpXKLmKeBU_yyt_QkItQ\n",
      "\t\thttps://www.youtube.com/creators/podcasts/\n",
      "\t\thttps://www.youtube.com/premium/\n",
      "\t\thttps://www.youtube.com/ads/how-it-works/set-up-a-campaign/youtube-select/\n",
      "\t\thttps://studio.youtube.com/\n",
      "\t\thttps://tv.youtube.com/\n",
      "\t\thttps://developers.google.com/youtube\n",
      "\t\thttps://www.youtube.com/ads/\n",
      "\t\thttps://www.youtube.com/yt/family/\n",
      "\t\thttps://www.youtube.com/creatorresearch/\n",
      "\t\thttps://servicesdirectory.withyoutube.com/\n",
      "\t\thttps://artists.youtube.com/\n",
      "\t\thttps://www.youtube.com/creators/\n",
      "\t\thttps://www.youtube.com/nextup/\n",
      "\t\thttps://vr.youtube.com/\n",
      "\t\thttps://www.youtube.com/creators-for-change/\n",
      "\t\thttps://www.youtube.com/csai-match/\n",
      "\t\thttps://socialimpact.youtube.com/\n",
      "\t\thttps://www.youtube.com/about/\n",
      "\t\thttps://blog.youtube/\n",
      "\t\thttps://www.youtube.com/howyoutubeworks/\n",
      "\t\thttps://www.youtube.com/jobs/\n",
      "\t\thttps://blog.youtube/press/\n",
      "\t\thttps://www.youtube.com/trends/\n",
      "\t\thttps://tv.youtube.com/learn/nflsundayticket\n",
      "\t\thttps://www.youtube.com/kids/\n",
      "\t\thttps://www.youtube.com/musicpremium\n",
      "\t\thttps://www.youtube.com/channel/UCqVDpXKLmKeBU_yyt_QkItQ\n",
      "\t\thttps://www.youtube.com/creators/podcasts/\n",
      "\t\thttps://www.youtube.com/premium/\n",
      "\t\thttps://www.youtube.com/ads/how-it-works/set-up-a-campaign/youtube-select/\n",
      "\t\thttps://studio.youtube.com/\n",
      "\t\thttps://tv.youtube.com/\n",
      "\t\thttps://developers.google.com/youtube\n",
      "\t\thttps://www.youtube.com/ads/\n",
      "\t\thttps://www.youtube.com/yt/family/\n",
      "\t\thttps://www.youtube.com/creatorresearch/\n",
      "\t\thttps://servicesdirectory.withyoutube.com/\n",
      "\t\thttps://artists.youtube.com/\n",
      "\t\thttps://www.youtube.com/creators/\n",
      "\t\thttps://www.youtube.com/nextup/\n",
      "\t\thttps://vr.youtube.com/\n",
      "\t\thttps://www.youtube.com/creators-for-change/\n",
      "\t\thttps://www.youtube.com/csai-match/\n",
      "\t\thttps://socialimpact.youtube.com/\n",
      "\t\thttps://www.youtube.com\n",
      "\t\thttps://www.youtube.com/about/policies/\n",
      "\t\thttps://www.youtube.com/about/copyright/\n",
      "\t\thttps://www.youtube.com/about/brand-resources/\n",
      "\t\thttps://www.google.com/policies/privacy/\n",
      "\t\thttps://www.youtube.com/t/terms\n",
      "\t\thttps://support.google.com/youtube/#topic=9257498\n",
      "\thttps://www.youtube.com/howyoutubeworks?utm_campaign=ytgen&utm_source=ythp&utm_medium=LeftNav&utm_content=txt&u=https%3A%2F%2Fwww.youtube.com%2Fhowyoutubeworks%3Futm_source%3Dythp%26utm_medium%3DLeftNav%26utm_campaign%3Dytgen\n",
      "\t\thttps://www.youtube.com/intl/ALL_ca/howyoutubeworks/\n",
      "\t\thttps://www.youtube.com/howyoutubeworks?utm_campaign=ytgen&utm_source=ythp&utm_medium=LeftNav&utm_content=txt&u=https%3A%2F%2Fwww.youtube.com%2Fhowyoutubeworks%3Futm_source%3Dythp%26utm_medium%3DLeftNav%26utm_campaign%3Dytgen#content\n",
      "\t\thttps://www.youtube.com/intl/ALL_ca/howyoutubeworks/our-commitments/managing-harmful-content/\n",
      "\t\thttps://www.youtube.com/intl/ALL_ca/howyoutubeworks/our-commitments/standing-up-to-hate/\n",
      "\t\thttps://www.youtube.com/intl/ALL_ca/howyoutubeworks/our-commitments/fighting-misinformation/\n",
      "\t\thttps://www.youtube.com/intl/ALL_ca/howyoutubeworks/our-commitments/curbing-extremist-content/\n",
      "\t\thttps://www.youtube.com/intl/ALL_ca/howyoutubeworks/our-commitments/supporting-political-integrity/\n",
      "\t\thttps://research.youtube\n",
      "\t\thttps://www.youtube.com/intl/ALL_ca/howyoutubeworks/our-commitments/preventing-bias/\n",
      "\t\thttps://www.youtube.com/intl/ALL_ca/howyoutubeworks/our-commitments/youth-principles/\n",
      "\t\thttps://www.youtube.com/intl/ALL_ca/howyoutubeworks/our-commitments/fostering-child-safety/\n",
      "\t\thttps://www.youtube.com/intl/ALL_ca/howyoutubeworks/our-commitments/protecting-user-data/\n",
      "\t\thttps://www.youtube.com/intl/ALL_ca/howyoutubeworks/our-commitments/safeguarding-copyright/\n",
      "\t\thttps://www.youtube.com/intl/ALL_ca/howyoutubeworks/our-commitments/sharing-revenue/\n",
      "\t\thttps://www.youtube.com/intl/ALL_ca/howyoutubeworks/our-commitments/promoting-digital-wellbeing/\n",
      "\t\thttps://www.youtube.com/intl/ALL_ca/howyoutubeworks/our-commitments/responsible-ai/\n",
      "\t\thttps://www.youtube.com/intl/ALL_ca/howyoutubeworks/product-features/search/\n",
      "\t\thttps://www.youtube.com/intl/ALL_ca/howyoutubeworks/product-features/recommendations/\n",
      "\t\thttps://www.youtube.com/intl/ALL_ca/howyoutubeworks/product-features/news-information/\n",
      "\t\thttps://www.youtube.com/intl/ALL_ca/howyoutubeworks/product-features/monetization/\n",
      "\t\thttps://www.youtube.com/intl/ALL_ca/howyoutubeworks/product-features/live/\n",
      "\t\thttps://www.youtube.com/intl/ALL_ca/howyoutubeworks/user-settings/privacy/\n",
      "\t\thttps://www.youtube.com/intl/ALL_ca/howyoutubeworks/user-settings/ad-settings/\n",
      "\t\thttps://www.youtube.com/intl/ALL_ca/howyoutubeworks/user-settings/parental-controls/\n",
      "\t\thttps://www.youtube.com/intl/ALL_ca/howyoutubeworks/user-settings/autoplay/\n",
      "\t\thttps://www.youtube.com/intl/ALL_ca/howyoutubeworks/policies/overview/\n",
      "\t\thttps://www.youtube.com/intl/ALL_ca/howyoutubeworks/policies/community-guidelines/\n",
      "\t\thttps://www.youtube.com/intl/ALL_ca/howyoutubeworks/policies/copyright/\n",
      "\t\thttps://www.youtube.com/intl/ALL_ca/howyoutubeworks/policies/monetization-policies/\n",
      "\t\thttps://www.youtube.com/intl/ALL_ca/howyoutubeworks/policies/legal-removals/\n",
      "\t\thttps://www.youtube.com/intl/ALL_ca/howyoutubeworks/progress-impact/responsibility/\n",
      "\t\thttps://www.youtube.com/intl/ALL_ca/howyoutubeworks/progress-impact/impact/\n",
      "\t\thttps://www.youtube.com/intl/ALL_ca/howyoutubeworks/our-commitments/managing-harmful-content/\n",
      "\t\thttps://www.youtube.com/intl/ALL_ca/howyoutubeworks/our-commitments/curbing-extremist-content/\n",
      "\t\thttps://www.youtube.com/intl/ALL_ca/howyoutubeworks/our-commitments/fostering-child-safety/\n",
      "\t\thttps://www.youtube.com/intl/ALL_ca/howyoutubeworks/our-commitments/preventing-bias/\n",
      "\t\thttps://www.youtube.com/intl/ALL_ca/howyoutubeworks/our-commitments/standing-up-to-hate/\n",
      "\t\thttps://www.youtube.com/intl/ALL_ca/howyoutubeworks/our-commitments/sharing-revenue/\n",
      "\t\thttps://www.youtube.com/intl/ALL_ca/howyoutubeworks/our-commitments/fighting-misinformation/\n",
      "\t\thttps://www.youtube.com/intl/ALL_ca/howyoutubeworks/our-commitments/supporting-political-integrity/\n",
      "\t\thttps://www.youtube.com/intl/ALL_ca/howyoutubeworks/our-commitments/protecting-user-data/\n",
      "\t\thttps://www.youtube.com/intl/ALL_ca/howyoutubeworks/our-commitments/safeguarding-copyright/\n",
      "\t\thttps://www.youtube.com/intl/ALL_ca/howyoutubeworks/our-commitments/promoting-digital-wellbeing/\n",
      "\t\thttps://www.youtube.com/intl/ALL_ca/howyoutubeworks/product-features/search/\n",
      "\t\thttps://www.youtube.com/intl/ALL_ca/howyoutubeworks/product-features/recommendations/\n",
      "\t\thttps://www.youtube.com/intl/ALL_ca/howyoutubeworks/product-features/news-information/\n",
      "\t\thttps://www.youtube.com/intl/ALL_ca/howyoutubeworks/product-features/monetization/\n",
      "\t\thttps://www.youtube.com/intl/ALL_ca/howyoutubeworks/product-features/live/\n",
      "\t\thttps://www.youtube.com/intl/ALL_ca/howyoutubeworks/user-settings/privacy/\n",
      "\t\thttps://www.youtube.com/intl/ALL_ca/howyoutubeworks/user-settings/ad-settings/\n",
      "\t\thttps://www.youtube.com/intl/ALL_ca/howyoutubeworks/user-settings/parental-controls/\n",
      "\t\thttps://www.youtube.com/intl/ALL_ca/howyoutubeworks/user-settings/autoplay/\n",
      "\t\thttps://www.youtube.com/intl/ALL_ca/howyoutubeworks/policies/overview/\n",
      "\t\thttps://www.youtube.com/intl/ALL_ca/howyoutubeworks/policies/community-guidelines/\n",
      "\t\thttps://www.youtube.com/intl/ALL_ca/howyoutubeworks/policies/copyright/\n",
      "\t\thttps://www.youtube.com/intl/ALL_ca/howyoutubeworks/policies/monetization-policies/\n",
      "\t\thttps://www.youtube.com/intl/ALL_ca/howyoutubeworks/policies/legal-removals/\n",
      "\t\thttps://www.youtube.com/intl/ALL_ca/howyoutubeworks/product-features/search/\n",
      "\t\thttps://www.youtube.com/intl/ALL_ca/howyoutubeworks/product-features/recommendations/\n",
      "\t\thttps://www.youtube.com/intl/ALL_ca/howyoutubeworks/product-features/news-information/\n",
      "\t\thttps://www.youtube.com/intl/ALL_ca/howyoutubeworks/product-features/monetization/\n",
      "\t\thttps://www.youtube.com/intl/ALL_ca/howyoutubeworks/product-features/live/\n",
      "\t\thttps://www.youtube.com/intl/ALL_ca/howyoutubeworks/user-settings/privacy/\n",
      "\t\thttps://www.youtube.com/intl/ALL_ca/howyoutubeworks/user-settings/ad-settings/\n",
      "\t\thttps://www.youtube.com/intl/ALL_ca/howyoutubeworks/user-settings/parental-controls/\n",
      "\t\thttps://www.youtube.com/intl/ALL_ca/howyoutubeworks/user-settings/autoplay/\n",
      "\t\thttps://www.youtube.com/intl/ALL_ca/howyoutubeworks/policies/overview/\n",
      "\t\thttps://www.youtube.com/intl/ALL_ca/howyoutubeworks/policies/community-guidelines/\n",
      "\t\thttps://www.youtube.com/intl/ALL_ca/howyoutubeworks/policies/copyright/\n",
      "\t\thttps://www.youtube.com/intl/ALL_ca/howyoutubeworks/policies/monetization-policies/\n",
      "\t\thttps://www.youtube.com/intl/ALL_ca/howyoutubeworks/policies/legal-removals/\n",
      "\t\thttps://www.youtube.com/intl/ALL_ca/howyoutubeworks/progress-impact/responsibility/\n",
      "\t\thttps://www.youtube.com/intl/ALL_ca/howyoutubeworks/progress-impact/impact/\n",
      "\t\thttps://twitter.com/YouTube\n",
      "\t\thttps://www.instagram.com/youtube/\n",
      "\t\thttps://www.facebook.com/youtube/?ref=br_r\n",
      "\t\thttps://www.youtube.com/about/\n",
      "\t\thttps://blog.youtube/\n",
      "\t\thttps://www.youtube.com/howyoutubeworks/\n",
      "\t\thttps://www.youtube.com/jobs/\n",
      "\t\thttps://blog.youtube/press/\n",
      "\t\thttps://www.youtube.com/trends/\n",
      "\t\thttps://tv.youtube.com/learn/nflsundayticket\n",
      "\t\thttps://www.youtube.com/kids/\n",
      "\t\thttps://www.youtube.com/musicpremium\n",
      "\t\thttps://www.youtube.com/channel/UCqVDpXKLmKeBU_yyt_QkItQ\n",
      "\t\thttps://www.youtube.com/creators/podcasts/\n",
      "\t\thttps://www.youtube.com/premium/\n",
      "\t\thttps://www.youtube.com/ads/how-it-works/set-up-a-campaign/youtube-select/\n",
      "\t\thttps://studio.youtube.com/\n",
      "\t\thttps://tv.youtube.com/\n",
      "\t\thttps://developers.google.com/youtube\n",
      "\t\thttps://www.youtube.com/ads/\n",
      "\t\thttps://www.youtube.com/yt/family/\n",
      "\t\thttps://www.youtube.com/creatorresearch/\n",
      "\t\thttps://servicesdirectory.withyoutube.com/\n",
      "\t\thttps://artists.youtube.com/\n",
      "\t\thttps://www.youtube.com/creators/\n",
      "\t\thttps://www.youtube.com/nextup/\n",
      "\t\thttps://vr.youtube.com/\n",
      "\t\thttps://www.youtube.com/creators-for-change/\n",
      "\t\thttps://www.youtube.com/csai-match/\n",
      "\t\thttps://socialimpact.youtube.com/\n",
      "\t\thttps://www.youtube.com/about/\n",
      "\t\thttps://blog.youtube/\n",
      "\t\thttps://www.youtube.com/howyoutubeworks/\n",
      "\t\thttps://www.youtube.com/jobs/\n",
      "\t\thttps://blog.youtube/press/\n",
      "\t\thttps://www.youtube.com/trends/\n",
      "\t\thttps://tv.youtube.com/learn/nflsundayticket\n",
      "\t\thttps://www.youtube.com/kids/\n",
      "\t\thttps://www.youtube.com/musicpremium\n",
      "\t\thttps://www.youtube.com/channel/UCqVDpXKLmKeBU_yyt_QkItQ\n",
      "\t\thttps://www.youtube.com/creators/podcasts/\n",
      "\t\thttps://www.youtube.com/premium/\n",
      "\t\thttps://www.youtube.com/ads/how-it-works/set-up-a-campaign/youtube-select/\n",
      "\t\thttps://studio.youtube.com/\n",
      "\t\thttps://tv.youtube.com/\n",
      "\t\thttps://developers.google.com/youtube\n",
      "\t\thttps://www.youtube.com/ads/\n",
      "\t\thttps://www.youtube.com/yt/family/\n",
      "\t\thttps://www.youtube.com/creatorresearch/\n",
      "\t\thttps://servicesdirectory.withyoutube.com/\n",
      "\t\thttps://artists.youtube.com/\n",
      "\t\thttps://www.youtube.com/creators/\n",
      "\t\thttps://www.youtube.com/nextup/\n",
      "\t\thttps://vr.youtube.com/\n",
      "\t\thttps://www.youtube.com/creators-for-change/\n",
      "\t\thttps://www.youtube.com/csai-match/\n",
      "\t\thttps://socialimpact.youtube.com/\n",
      "\t\thttps://www.youtube.com\n",
      "\t\thttps://www.youtube.com/about/policies/\n",
      "\t\thttps://www.youtube.com/about/copyright/\n",
      "\t\thttps://www.youtube.com/about/brand-resources/\n",
      "\t\thttps://www.google.com/policies/privacy/\n",
      "\t\thttps://www.youtube.com/t/terms\n",
      "\t\thttps://support.google.com/youtube/#topic=9257498\n",
      "\thttps://www.youtube.com/new\n",
      "\t\thttps://www.youtube.com/\n",
      "\t\thttps://www.youtube.com/\n",
      "\t\thttps://www.youtube.com/about/\n",
      "\t\thttps://www.youtube.com/about/press/\n",
      "\t\thttps://www.youtube.com/about/copyright/\n",
      "\t\thttps://www.youtube.com/t/contact_us/\n",
      "\t\thttps://www.youtube.com/creators/\n",
      "\t\thttps://www.youtube.com/ads/\n",
      "\t\thttps://developers.google.com/youtube\n",
      "\t\thttps://www.youtube.com/t/terms\n",
      "\t\thttps://www.youtube.com/t/privacy\n",
      "\t\thttps://www.youtube.com/about/policies/\n",
      "\t\thttps://www.youtube.com/howyoutubeworks?utm_campaign=ytgen&utm_source=ythp&utm_medium=LeftNav&utm_content=txt&u=https%3A%2F%2Fwww.youtube.com%2Fhowyoutubeworks%3Futm_source%3Dythp%26utm_medium%3DLeftNav%26utm_campaign%3Dytgen\n",
      "\t\thttps://www.youtube.com/new\n",
      "\t\thttps://www.google.com/accessibility/get-in-touch/\n",
      "\thttps://www.google.com/accessibility/get-in-touch/\n",
      "\t\thttps://www.google.com/accessibility/get-in-touch/#skip-to-content\n",
      "\t\thttps://www.google.com/accessibility/\n",
      "\t\thttps://www.google.com/accessibility/\n",
      "\t\thttps://www.google.com/accessibility/products-features/\n",
      "\t\thttps://www.google.com/accessibility/for-developers/\n",
      "\t\thttps://www.google.com/accessibility/customers-partners/\n",
      "\t\thttps://www.google.com/accessibility/initiatives-research/\n",
      "\t\thttps://www.google.com/accessibility/get-in-touch/\n",
      "\t\thttps://www.google.com/accessibility/\n",
      "\t\thttps://www.google.com/accessibility/products-features/\n",
      "\t\thttps://www.google.com/accessibility/for-developers/\n",
      "\t\thttps://www.google.com/accessibility/customers-partners/\n",
      "\t\thttps://www.google.com/accessibility/initiatives-research/\n",
      "\t\thttps://www.google.com/accessibility/get-in-touch/\n",
      "\t\thttps://support.google.com/accessibility/android/answer/7641084#disability-support\n",
      "\t\thttps://support.google.com/accessibility/answer/9248846\n",
      "\t\thttps://support.google.com/accessibility/contact/feedback\n",
      "\t\thttps://support.google.com/accessibility/answer/9248847\n",
      "\t\thttps://g.co/userresearch/a11y?referral_code=a11ysite\n",
      "\t\thttps://diversity.google/\n",
      "\t\thttps://www.google.com/accessibility/get-in-touch/#top\n",
      "\t\thttps://twitter.com/googleaccess\n",
      "\t\thttps://www.google.com/accessibility/\n",
      "\t\thttps://www.google.com/accessibility/products-features/\n",
      "\t\thttps://www.google.com/accessibility/for-developers/\n",
      "\t\thttps://www.google.com/accessibility/customers-partners/\n",
      "\t\thttps://www.google.com/accessibility/initiatives-research/\n",
      "\t\thttps://www.google.com/accessibility/get-in-touch/\n",
      "\t\thttps://www.google.com\n",
      "\t\thttps://about.google/\n",
      "\t\thttps://policies.google.com/privacy?hl=en\n",
      "\t\thttps://policies.google.com/terms?hl=en\n"
     ]
    }
   ],
   "source": [
    "webdir(\"https://www.youtube.com/\", 2, 0)"
   ]
  },
  {
   "cell_type": "markdown",
   "id": "177d2cc9-58f9-4ec9-83f1-52e404c672f9",
   "metadata": {},
   "source": [
    "## Question 8"
   ]
  },
  {
   "cell_type": "code",
   "execution_count": 1,
   "id": "5c2fdaea-f2b5-451e-bfc5-78010b04cd1d",
   "metadata": {
    "collapsed": true,
    "jupyter": {
     "outputs_hidden": true
    },
    "tags": []
   },
   "outputs": [
    {
     "name": "stdout",
     "output_type": "stream",
     "text": [
      "Requirement already satisfied: ipython-sql in /Users/pratikdas/anaconda3/envs/asgn/lib/python3.11/site-packages (0.5.0)\n",
      "Requirement already satisfied: sqlalchemy in /Users/pratikdas/anaconda3/envs/asgn/lib/python3.11/site-packages (2.0.36)\n",
      "Requirement already satisfied: prettytable in /Users/pratikdas/anaconda3/envs/asgn/lib/python3.11/site-packages (3.12.0)\n",
      "Requirement already satisfied: pandas in /Users/pratikdas/anaconda3/envs/asgn/lib/python3.11/site-packages (2.0.3)\n",
      "Requirement already satisfied: ipython in /Users/pratikdas/anaconda3/envs/asgn/lib/python3.11/site-packages (from ipython-sql) (8.15.0)\n",
      "Requirement already satisfied: sqlparse in /Users/pratikdas/anaconda3/envs/asgn/lib/python3.11/site-packages (from ipython-sql) (0.5.1)\n",
      "Requirement already satisfied: six in /Users/pratikdas/anaconda3/envs/asgn/lib/python3.11/site-packages (from ipython-sql) (1.16.0)\n",
      "Requirement already satisfied: ipython-genutils in /Users/pratikdas/anaconda3/envs/asgn/lib/python3.11/site-packages (from ipython-sql) (0.2.0)\n",
      "Requirement already satisfied: typing-extensions>=4.6.0 in /Users/pratikdas/anaconda3/envs/asgn/lib/python3.11/site-packages (from sqlalchemy) (4.10.0)\n",
      "Requirement already satisfied: wcwidth in /Users/pratikdas/anaconda3/envs/asgn/lib/python3.11/site-packages (from prettytable) (0.2.5)\n",
      "Requirement already satisfied: python-dateutil>=2.8.2 in /Users/pratikdas/anaconda3/envs/asgn/lib/python3.11/site-packages (from pandas) (2.8.2)\n",
      "Requirement already satisfied: pytz>=2020.1 in /Users/pratikdas/anaconda3/envs/asgn/lib/python3.11/site-packages (from pandas) (2023.3.post1)\n",
      "Requirement already satisfied: tzdata>=2022.1 in /Users/pratikdas/anaconda3/envs/asgn/lib/python3.11/site-packages (from pandas) (2023.3)\n",
      "Requirement already satisfied: numpy>=1.21.0 in /Users/pratikdas/anaconda3/envs/asgn/lib/python3.11/site-packages (from pandas) (1.26.4)\n",
      "Requirement already satisfied: backcall in /Users/pratikdas/anaconda3/envs/asgn/lib/python3.11/site-packages (from ipython->ipython-sql) (0.2.0)\n",
      "Requirement already satisfied: decorator in /Users/pratikdas/anaconda3/envs/asgn/lib/python3.11/site-packages (from ipython->ipython-sql) (5.1.1)\n",
      "Requirement already satisfied: jedi>=0.16 in /Users/pratikdas/anaconda3/envs/asgn/lib/python3.11/site-packages (from ipython->ipython-sql) (0.18.1)\n",
      "Requirement already satisfied: matplotlib-inline in /Users/pratikdas/anaconda3/envs/asgn/lib/python3.11/site-packages (from ipython->ipython-sql) (0.1.6)\n",
      "Requirement already satisfied: pickleshare in /Users/pratikdas/anaconda3/envs/asgn/lib/python3.11/site-packages (from ipython->ipython-sql) (0.7.5)\n",
      "Requirement already satisfied: prompt-toolkit!=3.0.37,<3.1.0,>=3.0.30 in /Users/pratikdas/anaconda3/envs/asgn/lib/python3.11/site-packages (from ipython->ipython-sql) (3.0.36)\n",
      "Requirement already satisfied: pygments>=2.4.0 in /Users/pratikdas/anaconda3/envs/asgn/lib/python3.11/site-packages (from ipython->ipython-sql) (2.15.1)\n",
      "Requirement already satisfied: stack-data in /Users/pratikdas/anaconda3/envs/asgn/lib/python3.11/site-packages (from ipython->ipython-sql) (0.2.0)\n",
      "Requirement already satisfied: traitlets>=5 in /Users/pratikdas/anaconda3/envs/asgn/lib/python3.11/site-packages (from ipython->ipython-sql) (5.7.1)\n",
      "Requirement already satisfied: pexpect>4.3 in /Users/pratikdas/anaconda3/envs/asgn/lib/python3.11/site-packages (from ipython->ipython-sql) (4.8.0)\n",
      "Requirement already satisfied: appnope in /Users/pratikdas/anaconda3/envs/asgn/lib/python3.11/site-packages (from ipython->ipython-sql) (0.1.2)\n",
      "Requirement already satisfied: parso<0.9.0,>=0.8.0 in /Users/pratikdas/anaconda3/envs/asgn/lib/python3.11/site-packages (from jedi>=0.16->ipython->ipython-sql) (0.8.3)\n",
      "Requirement already satisfied: ptyprocess>=0.5 in /Users/pratikdas/anaconda3/envs/asgn/lib/python3.11/site-packages (from pexpect>4.3->ipython->ipython-sql) (0.7.0)\n",
      "Requirement already satisfied: executing in /Users/pratikdas/anaconda3/envs/asgn/lib/python3.11/site-packages (from stack-data->ipython->ipython-sql) (0.8.3)\n",
      "Requirement already satisfied: asttokens in /Users/pratikdas/anaconda3/envs/asgn/lib/python3.11/site-packages (from stack-data->ipython->ipython-sql) (2.0.5)\n",
      "Requirement already satisfied: pure-eval in /Users/pratikdas/anaconda3/envs/asgn/lib/python3.11/site-packages (from stack-data->ipython->ipython-sql) (0.2.2)\n"
     ]
    }
   ],
   "source": [
    "!pip install ipython-sql sqlalchemy prettytable pandas"
   ]
  },
  {
   "cell_type": "code",
   "execution_count": 2,
   "id": "da3ae668-953e-454b-8aef-dad1f0a4a8c7",
   "metadata": {
    "tags": []
   },
   "outputs": [],
   "source": [
    "%load_ext sql"
   ]
  },
  {
   "cell_type": "code",
   "execution_count": 3,
   "id": "c16e9a79-e6dc-4454-b562-f6aa02992cdb",
   "metadata": {
    "tags": []
   },
   "outputs": [],
   "source": [
    "%sql sqlite:///weather.db"
   ]
  },
  {
   "cell_type": "code",
   "execution_count": 4,
   "id": "329b1a02-c93b-4ef5-a94d-dfdb464c3fc5",
   "metadata": {
    "tags": []
   },
   "outputs": [
    {
     "name": "stdout",
     "output_type": "stream",
     "text": [
      " * sqlite:///weather.db\n",
      "Done.\n"
     ]
    },
    {
     "data": {
      "text/plain": [
       "[]"
      ]
     },
     "execution_count": 4,
     "metadata": {},
     "output_type": "execute_result"
    }
   ],
   "source": [
    "%%sql\n",
    "CREATE TABLE weather_data (\n",
    "    City TEXT,\n",
    "    Country TEXT,\n",
    "    Season TEXT,\n",
    "    Temperature REAL,\n",
    "    Rainfall REAL\n",
    ");"
   ]
  },
  {
   "cell_type": "code",
   "execution_count": 5,
   "id": "81fe0f37-e42c-4205-94f1-67adbe67b666",
   "metadata": {
    "tags": []
   },
   "outputs": [
    {
     "name": "stdout",
     "output_type": "stream",
     "text": [
      " * sqlite:///weather.db\n",
      "12 rows affected.\n"
     ]
    },
    {
     "data": {
      "text/plain": [
       "[]"
      ]
     },
     "execution_count": 5,
     "metadata": {},
     "output_type": "execute_result"
    }
   ],
   "source": [
    "%%sql\n",
    "INSERT INTO weather_data (City, Country, Season, Temperature, Rainfall) VALUES\n",
    "('Mumbai', 'India', 'Winter', 24.8, 5.9),\n",
    "('Mumbai', 'India', 'Spring', 28.4, 16.2),\n",
    "('Mumbai', 'India', 'Summer', 27.9, 1549.4),\n",
    "('Mumbai', 'India', 'Fall', 27.6, 346.0),\n",
    "('London', 'United Kingdom', 'Winter', 4.2, 207.7),\n",
    "('London', 'United Kingdom', 'Spring', 8.3, 169.6),\n",
    "('London', 'United Kingdom', 'Summer', 15.7, 157.0),\n",
    "('London', 'United Kingdom', 'Fall', 10.4, 218.5),\n",
    "('Cairo', 'Egypt', 'Winter', 13.6, 16.5),\n",
    "('Cairo', 'Egypt', 'Spring', 20.7, 6.5),\n",
    "('Cairo', 'Egypt', 'Summer', 27.7, 0.1),\n",
    "('Cairo', 'Egypt', 'Fall', 22.2, 4.5);"
   ]
  },
  {
   "cell_type": "markdown",
   "id": "c6e1cddc-ae86-48b5-95fa-974f1ada6bbc",
   "metadata": {},
   "source": [
    "### Test Insertions"
   ]
  },
  {
   "cell_type": "code",
   "execution_count": 6,
   "id": "ce8691f8-b3bf-40ed-bf74-6b6ac5609f58",
   "metadata": {
    "tags": []
   },
   "outputs": [
    {
     "data": {
      "text/html": [
       "<div>\n",
       "<style scoped>\n",
       "    .dataframe tbody tr th:only-of-type {\n",
       "        vertical-align: middle;\n",
       "    }\n",
       "\n",
       "    .dataframe tbody tr th {\n",
       "        vertical-align: top;\n",
       "    }\n",
       "\n",
       "    .dataframe thead th {\n",
       "        text-align: right;\n",
       "    }\n",
       "</style>\n",
       "<table border=\"1\" class=\"dataframe\">\n",
       "  <thead>\n",
       "    <tr style=\"text-align: right;\">\n",
       "      <th></th>\n",
       "      <th>City</th>\n",
       "      <th>Country</th>\n",
       "      <th>Season</th>\n",
       "      <th>Temperature</th>\n",
       "      <th>Rainfall</th>\n",
       "    </tr>\n",
       "  </thead>\n",
       "  <tbody>\n",
       "    <tr>\n",
       "      <th>0</th>\n",
       "      <td>Mumbai</td>\n",
       "      <td>India</td>\n",
       "      <td>Winter</td>\n",
       "      <td>24.8</td>\n",
       "      <td>5.9</td>\n",
       "    </tr>\n",
       "    <tr>\n",
       "      <th>1</th>\n",
       "      <td>Mumbai</td>\n",
       "      <td>India</td>\n",
       "      <td>Spring</td>\n",
       "      <td>28.4</td>\n",
       "      <td>16.2</td>\n",
       "    </tr>\n",
       "    <tr>\n",
       "      <th>2</th>\n",
       "      <td>Mumbai</td>\n",
       "      <td>India</td>\n",
       "      <td>Summer</td>\n",
       "      <td>27.9</td>\n",
       "      <td>1549.4</td>\n",
       "    </tr>\n",
       "    <tr>\n",
       "      <th>3</th>\n",
       "      <td>Mumbai</td>\n",
       "      <td>India</td>\n",
       "      <td>Fall</td>\n",
       "      <td>27.6</td>\n",
       "      <td>346.0</td>\n",
       "    </tr>\n",
       "    <tr>\n",
       "      <th>4</th>\n",
       "      <td>London</td>\n",
       "      <td>United Kingdom</td>\n",
       "      <td>Winter</td>\n",
       "      <td>4.2</td>\n",
       "      <td>207.7</td>\n",
       "    </tr>\n",
       "    <tr>\n",
       "      <th>5</th>\n",
       "      <td>London</td>\n",
       "      <td>United Kingdom</td>\n",
       "      <td>Spring</td>\n",
       "      <td>8.3</td>\n",
       "      <td>169.6</td>\n",
       "    </tr>\n",
       "    <tr>\n",
       "      <th>6</th>\n",
       "      <td>London</td>\n",
       "      <td>United Kingdom</td>\n",
       "      <td>Summer</td>\n",
       "      <td>15.7</td>\n",
       "      <td>157.0</td>\n",
       "    </tr>\n",
       "    <tr>\n",
       "      <th>7</th>\n",
       "      <td>London</td>\n",
       "      <td>United Kingdom</td>\n",
       "      <td>Fall</td>\n",
       "      <td>10.4</td>\n",
       "      <td>218.5</td>\n",
       "    </tr>\n",
       "    <tr>\n",
       "      <th>8</th>\n",
       "      <td>Cairo</td>\n",
       "      <td>Egypt</td>\n",
       "      <td>Winter</td>\n",
       "      <td>13.6</td>\n",
       "      <td>16.5</td>\n",
       "    </tr>\n",
       "    <tr>\n",
       "      <th>9</th>\n",
       "      <td>Cairo</td>\n",
       "      <td>Egypt</td>\n",
       "      <td>Spring</td>\n",
       "      <td>20.7</td>\n",
       "      <td>6.5</td>\n",
       "    </tr>\n",
       "    <tr>\n",
       "      <th>10</th>\n",
       "      <td>Cairo</td>\n",
       "      <td>Egypt</td>\n",
       "      <td>Summer</td>\n",
       "      <td>27.7</td>\n",
       "      <td>0.1</td>\n",
       "    </tr>\n",
       "    <tr>\n",
       "      <th>11</th>\n",
       "      <td>Cairo</td>\n",
       "      <td>Egypt</td>\n",
       "      <td>Fall</td>\n",
       "      <td>22.2</td>\n",
       "      <td>4.5</td>\n",
       "    </tr>\n",
       "  </tbody>\n",
       "</table>\n",
       "</div>"
      ],
      "text/plain": [
       "      City         Country  Season  Temperature  Rainfall\n",
       "0   Mumbai           India  Winter         24.8       5.9\n",
       "1   Mumbai           India  Spring         28.4      16.2\n",
       "2   Mumbai           India  Summer         27.9    1549.4\n",
       "3   Mumbai           India    Fall         27.6     346.0\n",
       "4   London  United Kingdom  Winter          4.2     207.7\n",
       "5   London  United Kingdom  Spring          8.3     169.6\n",
       "6   London  United Kingdom  Summer         15.7     157.0\n",
       "7   London  United Kingdom    Fall         10.4     218.5\n",
       "8    Cairo           Egypt  Winter         13.6      16.5\n",
       "9    Cairo           Egypt  Spring         20.7       6.5\n",
       "10   Cairo           Egypt  Summer         27.7       0.1\n",
       "11   Cairo           Egypt    Fall         22.2       4.5"
      ]
     },
     "execution_count": 6,
     "metadata": {},
     "output_type": "execute_result"
    }
   ],
   "source": [
    "import pandas as pd\n",
    "from sqlalchemy import create_engine\n",
    "\n",
    "# Create engine (adjust connection string as needed)\n",
    "engine = create_engine('sqlite:///weather.db')\n",
    "\n",
    "# Run query\n",
    "df = pd.read_sql_query(\"SELECT * FROM weather_data\", engine)\n",
    "df"
   ]
  },
  {
   "cell_type": "markdown",
   "id": "f842a065-1a85-45da-9063-7c083543ff85",
   "metadata": {},
   "source": [
    "#### a) All the temperature data."
   ]
  },
  {
   "cell_type": "code",
   "execution_count": 7,
   "id": "456f6e94-b5ab-46ac-a3aa-e35fd0bb23fc",
   "metadata": {
    "tags": []
   },
   "outputs": [
    {
     "data": {
      "text/html": [
       "<div>\n",
       "<style scoped>\n",
       "    .dataframe tbody tr th:only-of-type {\n",
       "        vertical-align: middle;\n",
       "    }\n",
       "\n",
       "    .dataframe tbody tr th {\n",
       "        vertical-align: top;\n",
       "    }\n",
       "\n",
       "    .dataframe thead th {\n",
       "        text-align: right;\n",
       "    }\n",
       "</style>\n",
       "<table border=\"1\" class=\"dataframe\">\n",
       "  <thead>\n",
       "    <tr style=\"text-align: right;\">\n",
       "      <th></th>\n",
       "      <th>Temperature</th>\n",
       "    </tr>\n",
       "  </thead>\n",
       "  <tbody>\n",
       "    <tr>\n",
       "      <th>0</th>\n",
       "      <td>24.8</td>\n",
       "    </tr>\n",
       "    <tr>\n",
       "      <th>1</th>\n",
       "      <td>28.4</td>\n",
       "    </tr>\n",
       "    <tr>\n",
       "      <th>2</th>\n",
       "      <td>27.9</td>\n",
       "    </tr>\n",
       "    <tr>\n",
       "      <th>3</th>\n",
       "      <td>27.6</td>\n",
       "    </tr>\n",
       "    <tr>\n",
       "      <th>4</th>\n",
       "      <td>4.2</td>\n",
       "    </tr>\n",
       "    <tr>\n",
       "      <th>5</th>\n",
       "      <td>8.3</td>\n",
       "    </tr>\n",
       "    <tr>\n",
       "      <th>6</th>\n",
       "      <td>15.7</td>\n",
       "    </tr>\n",
       "    <tr>\n",
       "      <th>7</th>\n",
       "      <td>10.4</td>\n",
       "    </tr>\n",
       "    <tr>\n",
       "      <th>8</th>\n",
       "      <td>13.6</td>\n",
       "    </tr>\n",
       "    <tr>\n",
       "      <th>9</th>\n",
       "      <td>20.7</td>\n",
       "    </tr>\n",
       "    <tr>\n",
       "      <th>10</th>\n",
       "      <td>27.7</td>\n",
       "    </tr>\n",
       "    <tr>\n",
       "      <th>11</th>\n",
       "      <td>22.2</td>\n",
       "    </tr>\n",
       "  </tbody>\n",
       "</table>\n",
       "</div>"
      ],
      "text/plain": [
       "    Temperature\n",
       "0          24.8\n",
       "1          28.4\n",
       "2          27.9\n",
       "3          27.6\n",
       "4           4.2\n",
       "5           8.3\n",
       "6          15.7\n",
       "7          10.4\n",
       "8          13.6\n",
       "9          20.7\n",
       "10         27.7\n",
       "11         22.2"
      ]
     },
     "execution_count": 7,
     "metadata": {},
     "output_type": "execute_result"
    }
   ],
   "source": [
    "df = pd.read_sql_query(\"SELECT Temperature FROM weather_data\", engine)\n",
    "df"
   ]
  },
  {
   "cell_type": "markdown",
   "id": "da7715cb-7436-4d23-a382-084161598fcc",
   "metadata": {},
   "source": [
    "#### b) All the cities, but without repetition"
   ]
  },
  {
   "cell_type": "code",
   "execution_count": 8,
   "id": "b6afa345-c26d-45bf-8595-95680f2cf66f",
   "metadata": {},
   "outputs": [
    {
     "data": {
      "text/html": [
       "<div>\n",
       "<style scoped>\n",
       "    .dataframe tbody tr th:only-of-type {\n",
       "        vertical-align: middle;\n",
       "    }\n",
       "\n",
       "    .dataframe tbody tr th {\n",
       "        vertical-align: top;\n",
       "    }\n",
       "\n",
       "    .dataframe thead th {\n",
       "        text-align: right;\n",
       "    }\n",
       "</style>\n",
       "<table border=\"1\" class=\"dataframe\">\n",
       "  <thead>\n",
       "    <tr style=\"text-align: right;\">\n",
       "      <th></th>\n",
       "      <th>City</th>\n",
       "    </tr>\n",
       "  </thead>\n",
       "  <tbody>\n",
       "    <tr>\n",
       "      <th>0</th>\n",
       "      <td>Mumbai</td>\n",
       "    </tr>\n",
       "    <tr>\n",
       "      <th>1</th>\n",
       "      <td>London</td>\n",
       "    </tr>\n",
       "    <tr>\n",
       "      <th>2</th>\n",
       "      <td>Cairo</td>\n",
       "    </tr>\n",
       "  </tbody>\n",
       "</table>\n",
       "</div>"
      ],
      "text/plain": [
       "     City\n",
       "0  Mumbai\n",
       "1  London\n",
       "2   Cairo"
      ]
     },
     "execution_count": 8,
     "metadata": {},
     "output_type": "execute_result"
    }
   ],
   "source": [
    "df = pd.read_sql_query(\"SELECT DISTINCT City FROM weather_data\", engine)\n",
    "df"
   ]
  },
  {
   "cell_type": "markdown",
   "id": "522f8117-39e6-4f13-85af-0faed7fa4726",
   "metadata": {},
   "source": [
    "#### c) All the records for India."
   ]
  },
  {
   "cell_type": "code",
   "execution_count": 9,
   "id": "1463d19f-832d-4452-a80e-ef66d5749297",
   "metadata": {
    "tags": []
   },
   "outputs": [
    {
     "data": {
      "text/html": [
       "<div>\n",
       "<style scoped>\n",
       "    .dataframe tbody tr th:only-of-type {\n",
       "        vertical-align: middle;\n",
       "    }\n",
       "\n",
       "    .dataframe tbody tr th {\n",
       "        vertical-align: top;\n",
       "    }\n",
       "\n",
       "    .dataframe thead th {\n",
       "        text-align: right;\n",
       "    }\n",
       "</style>\n",
       "<table border=\"1\" class=\"dataframe\">\n",
       "  <thead>\n",
       "    <tr style=\"text-align: right;\">\n",
       "      <th></th>\n",
       "      <th>City</th>\n",
       "      <th>Country</th>\n",
       "      <th>Season</th>\n",
       "      <th>Temperature</th>\n",
       "      <th>Rainfall</th>\n",
       "    </tr>\n",
       "  </thead>\n",
       "  <tbody>\n",
       "    <tr>\n",
       "      <th>0</th>\n",
       "      <td>Mumbai</td>\n",
       "      <td>India</td>\n",
       "      <td>Winter</td>\n",
       "      <td>24.8</td>\n",
       "      <td>5.9</td>\n",
       "    </tr>\n",
       "    <tr>\n",
       "      <th>1</th>\n",
       "      <td>Mumbai</td>\n",
       "      <td>India</td>\n",
       "      <td>Spring</td>\n",
       "      <td>28.4</td>\n",
       "      <td>16.2</td>\n",
       "    </tr>\n",
       "    <tr>\n",
       "      <th>2</th>\n",
       "      <td>Mumbai</td>\n",
       "      <td>India</td>\n",
       "      <td>Summer</td>\n",
       "      <td>27.9</td>\n",
       "      <td>1549.4</td>\n",
       "    </tr>\n",
       "    <tr>\n",
       "      <th>3</th>\n",
       "      <td>Mumbai</td>\n",
       "      <td>India</td>\n",
       "      <td>Fall</td>\n",
       "      <td>27.6</td>\n",
       "      <td>346.0</td>\n",
       "    </tr>\n",
       "  </tbody>\n",
       "</table>\n",
       "</div>"
      ],
      "text/plain": [
       "     City Country  Season  Temperature  Rainfall\n",
       "0  Mumbai   India  Winter         24.8       5.9\n",
       "1  Mumbai   India  Spring         28.4      16.2\n",
       "2  Mumbai   India  Summer         27.9    1549.4\n",
       "3  Mumbai   India    Fall         27.6     346.0"
      ]
     },
     "execution_count": 9,
     "metadata": {},
     "output_type": "execute_result"
    }
   ],
   "source": [
    "df = pd.read_sql_query(\"SELECT * FROM weather_data WHERE Country = 'India'\", engine)\n",
    "df"
   ]
  },
  {
   "cell_type": "markdown",
   "id": "6ce4f00d-b978-4c10-970c-60d31c24c901",
   "metadata": {},
   "source": [
    "#### d) All the Fall records."
   ]
  },
  {
   "cell_type": "code",
   "execution_count": 10,
   "id": "abae6697-befa-4554-b8ea-d731fdb5e757",
   "metadata": {},
   "outputs": [
    {
     "data": {
      "text/html": [
       "<div>\n",
       "<style scoped>\n",
       "    .dataframe tbody tr th:only-of-type {\n",
       "        vertical-align: middle;\n",
       "    }\n",
       "\n",
       "    .dataframe tbody tr th {\n",
       "        vertical-align: top;\n",
       "    }\n",
       "\n",
       "    .dataframe thead th {\n",
       "        text-align: right;\n",
       "    }\n",
       "</style>\n",
       "<table border=\"1\" class=\"dataframe\">\n",
       "  <thead>\n",
       "    <tr style=\"text-align: right;\">\n",
       "      <th></th>\n",
       "      <th>City</th>\n",
       "      <th>Country</th>\n",
       "      <th>Season</th>\n",
       "      <th>Temperature</th>\n",
       "      <th>Rainfall</th>\n",
       "    </tr>\n",
       "  </thead>\n",
       "  <tbody>\n",
       "    <tr>\n",
       "      <th>0</th>\n",
       "      <td>Mumbai</td>\n",
       "      <td>India</td>\n",
       "      <td>Fall</td>\n",
       "      <td>27.6</td>\n",
       "      <td>346.0</td>\n",
       "    </tr>\n",
       "    <tr>\n",
       "      <th>1</th>\n",
       "      <td>London</td>\n",
       "      <td>United Kingdom</td>\n",
       "      <td>Fall</td>\n",
       "      <td>10.4</td>\n",
       "      <td>218.5</td>\n",
       "    </tr>\n",
       "    <tr>\n",
       "      <th>2</th>\n",
       "      <td>Cairo</td>\n",
       "      <td>Egypt</td>\n",
       "      <td>Fall</td>\n",
       "      <td>22.2</td>\n",
       "      <td>4.5</td>\n",
       "    </tr>\n",
       "  </tbody>\n",
       "</table>\n",
       "</div>"
      ],
      "text/plain": [
       "     City         Country Season  Temperature  Rainfall\n",
       "0  Mumbai           India   Fall         27.6     346.0\n",
       "1  London  United Kingdom   Fall         10.4     218.5\n",
       "2   Cairo           Egypt   Fall         22.2       4.5"
      ]
     },
     "execution_count": 10,
     "metadata": {},
     "output_type": "execute_result"
    }
   ],
   "source": [
    "df = pd.read_sql_query(\"SELECT * FROM weather_data WHERE Season = 'Fall'\", engine)\n",
    "df"
   ]
  },
  {
   "cell_type": "markdown",
   "id": "e864b3ab-2c75-4254-9915-62ad75ac9cd4",
   "metadata": {
    "tags": []
   },
   "source": [
    "#### e) The city, country, and season for which the average rainfall is between 200 and 400 millimeters"
   ]
  },
  {
   "cell_type": "code",
   "execution_count": 11,
   "id": "3ba01bf3-eb4a-4ccc-94f6-8ae021c466a5",
   "metadata": {
    "tags": []
   },
   "outputs": [
    {
     "data": {
      "text/html": [
       "<div>\n",
       "<style scoped>\n",
       "    .dataframe tbody tr th:only-of-type {\n",
       "        vertical-align: middle;\n",
       "    }\n",
       "\n",
       "    .dataframe tbody tr th {\n",
       "        vertical-align: top;\n",
       "    }\n",
       "\n",
       "    .dataframe thead th {\n",
       "        text-align: right;\n",
       "    }\n",
       "</style>\n",
       "<table border=\"1\" class=\"dataframe\">\n",
       "  <thead>\n",
       "    <tr style=\"text-align: right;\">\n",
       "      <th></th>\n",
       "      <th>City</th>\n",
       "      <th>Country</th>\n",
       "      <th>Season</th>\n",
       "      <th>avg_rainfall</th>\n",
       "    </tr>\n",
       "  </thead>\n",
       "  <tbody>\n",
       "    <tr>\n",
       "      <th>0</th>\n",
       "      <td>London</td>\n",
       "      <td>United Kingdom</td>\n",
       "      <td>Fall</td>\n",
       "      <td>218.5</td>\n",
       "    </tr>\n",
       "    <tr>\n",
       "      <th>1</th>\n",
       "      <td>London</td>\n",
       "      <td>United Kingdom</td>\n",
       "      <td>Winter</td>\n",
       "      <td>207.7</td>\n",
       "    </tr>\n",
       "    <tr>\n",
       "      <th>2</th>\n",
       "      <td>Mumbai</td>\n",
       "      <td>India</td>\n",
       "      <td>Fall</td>\n",
       "      <td>346.0</td>\n",
       "    </tr>\n",
       "  </tbody>\n",
       "</table>\n",
       "</div>"
      ],
      "text/plain": [
       "     City         Country  Season  avg_rainfall\n",
       "0  London  United Kingdom    Fall         218.5\n",
       "1  London  United Kingdom  Winter         207.7\n",
       "2  Mumbai           India    Fall         346.0"
      ]
     },
     "execution_count": 11,
     "metadata": {},
     "output_type": "execute_result"
    }
   ],
   "source": [
    "sql_query = \"\"\"SELECT City, Country, Season, AVG(Rainfall) as avg_rainfall\n",
    "FROM weather_data\n",
    "GROUP BY City, Country, Season\n",
    "HAVING AVG(Rainfall) BETWEEN 200 AND 400;\"\"\"\n",
    "\n",
    "df = pd.read_sql_query(sql_query, engine)\n",
    "df"
   ]
  },
  {
   "cell_type": "markdown",
   "id": "e3ec5b2e-944e-4f69-bc8a-f1527a7deac2",
   "metadata": {
    "tags": []
   },
   "source": [
    "#### f) The city and country for which the average Fall temperature is above 20 degrees, in increasing temperature order."
   ]
  },
  {
   "cell_type": "code",
   "execution_count": 12,
   "id": "bddda24f-74cc-4a34-a52a-f686691fd944",
   "metadata": {
    "tags": []
   },
   "outputs": [
    {
     "data": {
      "text/html": [
       "<div>\n",
       "<style scoped>\n",
       "    .dataframe tbody tr th:only-of-type {\n",
       "        vertical-align: middle;\n",
       "    }\n",
       "\n",
       "    .dataframe tbody tr th {\n",
       "        vertical-align: top;\n",
       "    }\n",
       "\n",
       "    .dataframe thead th {\n",
       "        text-align: right;\n",
       "    }\n",
       "</style>\n",
       "<table border=\"1\" class=\"dataframe\">\n",
       "  <thead>\n",
       "    <tr style=\"text-align: right;\">\n",
       "      <th></th>\n",
       "      <th>City</th>\n",
       "      <th>Country</th>\n",
       "      <th>Temperature</th>\n",
       "    </tr>\n",
       "  </thead>\n",
       "  <tbody>\n",
       "    <tr>\n",
       "      <th>0</th>\n",
       "      <td>Cairo</td>\n",
       "      <td>Egypt</td>\n",
       "      <td>22.2</td>\n",
       "    </tr>\n",
       "    <tr>\n",
       "      <th>1</th>\n",
       "      <td>Mumbai</td>\n",
       "      <td>India</td>\n",
       "      <td>27.6</td>\n",
       "    </tr>\n",
       "  </tbody>\n",
       "</table>\n",
       "</div>"
      ],
      "text/plain": [
       "     City Country  Temperature\n",
       "0   Cairo   Egypt         22.2\n",
       "1  Mumbai   India         27.6"
      ]
     },
     "execution_count": 12,
     "metadata": {},
     "output_type": "execute_result"
    }
   ],
   "source": [
    "sql_query = \"\"\"SELECT City, Country, Temperature\n",
    "FROM weather_data\n",
    "WHERE Season = 'Fall' AND Temperature > 20\n",
    "ORDER BY Temperature ASC;\"\"\"\n",
    "\n",
    "df = pd.read_sql_query(sql_query, engine)\n",
    "df"
   ]
  },
  {
   "cell_type": "markdown",
   "id": "8d69be88-7748-480d-938e-38baa856bfd5",
   "metadata": {
    "tags": []
   },
   "source": [
    "#### g) The total annual rainfall for Cairo"
   ]
  },
  {
   "cell_type": "code",
   "execution_count": 13,
   "id": "86382bfd-d47b-4233-a6c3-3b3aecb66a27",
   "metadata": {
    "tags": []
   },
   "outputs": [
    {
     "data": {
      "text/html": [
       "<div>\n",
       "<style scoped>\n",
       "    .dataframe tbody tr th:only-of-type {\n",
       "        vertical-align: middle;\n",
       "    }\n",
       "\n",
       "    .dataframe tbody tr th {\n",
       "        vertical-align: top;\n",
       "    }\n",
       "\n",
       "    .dataframe thead th {\n",
       "        text-align: right;\n",
       "    }\n",
       "</style>\n",
       "<table border=\"1\" class=\"dataframe\">\n",
       "  <thead>\n",
       "    <tr style=\"text-align: right;\">\n",
       "      <th></th>\n",
       "      <th>City</th>\n",
       "      <th>total_rainfall</th>\n",
       "    </tr>\n",
       "  </thead>\n",
       "  <tbody>\n",
       "    <tr>\n",
       "      <th>0</th>\n",
       "      <td>Cairo</td>\n",
       "      <td>27.6</td>\n",
       "    </tr>\n",
       "  </tbody>\n",
       "</table>\n",
       "</div>"
      ],
      "text/plain": [
       "    City  total_rainfall\n",
       "0  Cairo            27.6"
      ]
     },
     "execution_count": 13,
     "metadata": {},
     "output_type": "execute_result"
    }
   ],
   "source": [
    "sql_query = \"\"\"SELECT City, SUM(Rainfall) as total_rainfall\n",
    "FROM weather_data\n",
    "WHERE City = 'Cairo'\n",
    "GROUP BY City;\"\"\"\n",
    "\n",
    "df = pd.read_sql_query(sql_query, engine)\n",
    "df"
   ]
  },
  {
   "cell_type": "markdown",
   "id": "c8d7b209-fb66-4041-a4ea-189255bd57d9",
   "metadata": {
    "tags": []
   },
   "source": [
    "#### h) The total rainfall for each season"
   ]
  },
  {
   "cell_type": "code",
   "execution_count": 14,
   "id": "5b95affe-c043-4d38-b4cc-48f62902eebd",
   "metadata": {},
   "outputs": [
    {
     "data": {
      "text/html": [
       "<div>\n",
       "<style scoped>\n",
       "    .dataframe tbody tr th:only-of-type {\n",
       "        vertical-align: middle;\n",
       "    }\n",
       "\n",
       "    .dataframe tbody tr th {\n",
       "        vertical-align: top;\n",
       "    }\n",
       "\n",
       "    .dataframe thead th {\n",
       "        text-align: right;\n",
       "    }\n",
       "</style>\n",
       "<table border=\"1\" class=\"dataframe\">\n",
       "  <thead>\n",
       "    <tr style=\"text-align: right;\">\n",
       "      <th></th>\n",
       "      <th>Season</th>\n",
       "      <th>total_rainfall</th>\n",
       "    </tr>\n",
       "  </thead>\n",
       "  <tbody>\n",
       "    <tr>\n",
       "      <th>0</th>\n",
       "      <td>Fall</td>\n",
       "      <td>569.0</td>\n",
       "    </tr>\n",
       "    <tr>\n",
       "      <th>1</th>\n",
       "      <td>Spring</td>\n",
       "      <td>192.3</td>\n",
       "    </tr>\n",
       "    <tr>\n",
       "      <th>2</th>\n",
       "      <td>Summer</td>\n",
       "      <td>1706.5</td>\n",
       "    </tr>\n",
       "    <tr>\n",
       "      <th>3</th>\n",
       "      <td>Winter</td>\n",
       "      <td>230.1</td>\n",
       "    </tr>\n",
       "  </tbody>\n",
       "</table>\n",
       "</div>"
      ],
      "text/plain": [
       "   Season  total_rainfall\n",
       "0    Fall           569.0\n",
       "1  Spring           192.3\n",
       "2  Summer          1706.5\n",
       "3  Winter           230.1"
      ]
     },
     "execution_count": 14,
     "metadata": {},
     "output_type": "execute_result"
    }
   ],
   "source": [
    "sql_query = \"\"\"SELECT Season, SUM(Rainfall) as total_rainfall\n",
    "FROM weather_data\n",
    "GROUP BY Season;\"\"\"\n",
    "\n",
    "df = pd.read_sql_query(sql_query, engine)\n",
    "df"
   ]
  },
  {
   "cell_type": "markdown",
   "id": "6cb3865e-4e24-4690-9c2b-66dfa9bd0367",
   "metadata": {},
   "source": [
    "## Question 9"
   ]
  },
  {
   "cell_type": "code",
   "execution_count": 15,
   "id": "6533d216-4a7b-496e-87f5-90fc0e77e7c0",
   "metadata": {
    "tags": []
   },
   "outputs": [],
   "source": [
    "# Given\n",
    "words = ['The', 'quick', 'brown', 'fox', 'jumps', 'over', 'the', 'lazy', 'dog']"
   ]
  },
  {
   "cell_type": "markdown",
   "id": "f6937a4c-ebae-4e8d-b350-4b2c6d201cb5",
   "metadata": {},
   "source": [
    "#### a)"
   ]
  },
  {
   "cell_type": "code",
   "execution_count": 16,
   "id": "6aec4095-1b52-4d03-9f37-2c75da2baa3d",
   "metadata": {
    "tags": []
   },
   "outputs": [
    {
     "data": {
      "text/plain": [
       "['THE', 'QUICK', 'BROWN', 'FOX', 'JUMPS', 'OVER', 'THE', 'LAZY', 'DOG']"
      ]
     },
     "execution_count": 16,
     "metadata": {},
     "output_type": "execute_result"
    }
   ],
   "source": [
    "[word.upper() for word in words]"
   ]
  },
  {
   "cell_type": "markdown",
   "id": "005d08a0-bf4b-468e-b406-751930771867",
   "metadata": {},
   "source": [
    "#### b)"
   ]
  },
  {
   "cell_type": "code",
   "execution_count": 17,
   "id": "eed906cc-f9cb-4ae2-9041-06be4059bb55",
   "metadata": {
    "tags": []
   },
   "outputs": [
    {
     "data": {
      "text/plain": [
       "['the', 'quick', 'brown', 'fox', 'jumps', 'over', 'the', 'lazy', 'dog']"
      ]
     },
     "execution_count": 17,
     "metadata": {},
     "output_type": "execute_result"
    }
   ],
   "source": [
    "[word.lower() for word in words]"
   ]
  },
  {
   "cell_type": "markdown",
   "id": "f8834432-34ad-4061-bc0e-c1ea81b32709",
   "metadata": {},
   "source": [
    "#### c)"
   ]
  },
  {
   "cell_type": "code",
   "execution_count": 18,
   "id": "cba7d9fd-45bf-4bd3-8581-2ebf62f9fa47",
   "metadata": {
    "tags": []
   },
   "outputs": [
    {
     "data": {
      "text/plain": [
       "[3, 5, 5, 3, 5, 4, 3, 4, 3]"
      ]
     },
     "execution_count": 18,
     "metadata": {},
     "output_type": "execute_result"
    }
   ],
   "source": [
    "[len(word) for word in words]"
   ]
  },
  {
   "cell_type": "markdown",
   "id": "4bfff691-a756-4765-a236-34540f6ac35e",
   "metadata": {},
   "source": [
    "#### d)"
   ]
  },
  {
   "cell_type": "code",
   "execution_count": 19,
   "id": "575e6b89-e1ce-40a4-be9e-08a1b1abf396",
   "metadata": {
    "tags": []
   },
   "outputs": [
    {
     "data": {
      "text/plain": [
       "[['THE', 'the', 3],\n",
       " ['QUICK', 'quick', 5],\n",
       " ['BROWN', 'brown', 5],\n",
       " ['FOX', 'fox', 3],\n",
       " ['JUMPS', 'jumps', 5],\n",
       " ['OVER', 'over', 4],\n",
       " ['THE', 'the', 3],\n",
       " ['LAZY', 'lazy', 4],\n",
       " ['DOG', 'dog', 3]]"
      ]
     },
     "execution_count": 19,
     "metadata": {},
     "output_type": "execute_result"
    }
   ],
   "source": [
    "[[word.upper(), word.lower(), len(word)] for word in words]"
   ]
  },
  {
   "cell_type": "markdown",
   "id": "e8ab1022-771c-4c10-9982-635823ef5e4d",
   "metadata": {
    "tags": []
   },
   "source": [
    "#### e)"
   ]
  },
  {
   "cell_type": "code",
   "execution_count": 20,
   "id": "36f095c7-3ccb-4e24-933a-1acd8c837865",
   "metadata": {
    "tags": []
   },
   "outputs": [
    {
     "data": {
      "text/plain": [
       "['quick', 'brown', 'jumps', 'over', 'lazy']"
      ]
     },
     "execution_count": 20,
     "metadata": {},
     "output_type": "execute_result"
    }
   ],
   "source": [
    "[word for word in words if len(word) >= 4]"
   ]
  },
  {
   "cell_type": "code",
   "execution_count": null,
   "id": "ef5e92fc-b41e-4cf5-978d-7d5960e7911e",
   "metadata": {},
   "outputs": [],
   "source": []
  }
 ],
 "metadata": {
  "kernelspec": {
   "display_name": "Python 3 (ipykernel)",
   "language": "python",
   "name": "python3"
  },
  "language_info": {
   "codemirror_mode": {
    "name": "ipython",
    "version": 3
   },
   "file_extension": ".py",
   "mimetype": "text/x-python",
   "name": "python",
   "nbconvert_exporter": "python",
   "pygments_lexer": "ipython3",
   "version": "3.11.5"
  }
 },
 "nbformat": 4,
 "nbformat_minor": 5
}
